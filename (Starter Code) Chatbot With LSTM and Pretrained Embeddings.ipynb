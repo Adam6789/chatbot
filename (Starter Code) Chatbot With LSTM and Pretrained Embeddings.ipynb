{
 "cells": [
  {
   "cell_type": "markdown",
   "metadata": {
    "id": "pJAWnBFlkE2w"
   },
   "source": [
    "# LSTM Bot\n",
    "\n",
    "## Project Overview\n",
    "\n",
    "In this project, you will build a chatbot that can converse with you at the command line. The chatbot will use a Sequence to Sequence text generation architecture with an LSTM as it's memory unit. You will also learn to use pretrained word embeddings to improve the performance of the model. At the conclusion of the project, you will be able to show your chatbot to potential employers.\n",
    "\n",
    "Additionally, you have the option to use pretrained word embeddings in your model. We have loaded Brown Embeddings from Gensim in the starter code below. You can compare the performance of your model with pre-trained embeddings against a model without the embeddings.\n",
    "\n",
    "\n",
    "\n",
    "---\n",
    "\n",
    "\n",
    "\n",
    "A sequence to sequence model (Seq2Seq) has two components:\n",
    "- An Encoder consisting of an embedding layer and LSTM unit.\n",
    "- A Decoder consisting of an embedding layer, LSTM unit, and linear output unit.\n",
    "\n",
    "The Seq2Seq model works by accepting an input into the Encoder, passing the hidden state from the Encoder to the Decoder, which the Decoder uses to output a series of token predictions.\n",
    "\n",
    "## Dependencies\n",
    "\n",
    "- Pytorch\n",
    "- Numpy\n",
    "- Pandas\n",
    "- NLTK\n",
    "- Gzip\n",
    "- Gensim\n",
    "\n",
    "\n",
    "Please choose a dataset from the Torchtext website. We recommend looking at the Squad dataset first. Here is a link to the website where you can view your options:\n",
    "\n",
    "- https://pytorch.org/text/stable/datasets.html\n",
    "\n",
    "\n",
    "\n"
   ]
  },
  {
   "cell_type": "code",
   "execution_count": 21,
   "metadata": {},
   "outputs": [],
   "source": [
    "test = False\n",
    "init = False\n",
    "\n",
    "if test:\n",
    "    !pip install -U  pytest\n",
    "if init:\n",
    "    pass\n",
    "    #!pip install torchsummary\n",
    "    #!pip install typing-extensions --upgrade\n",
    "    #!pip install -U torch torchvision torchtext torchdata pytest"
   ]
  },
  {
   "cell_type": "code",
   "execution_count": 22,
   "metadata": {},
   "outputs": [],
   "source": [
    "# public libraries\n",
    "import nltk\n",
    "import numpy as np\n",
    "import pandas as pd\n",
    "import gzip\n",
    "import torch\n",
    "import torch.nn as nn\n",
    "import pandas as pd\n",
    "import torch.optim\n",
    "import random\n",
    "from torch.utils.data import DataLoader\n",
    "\n",
    "# my libraries\n",
    "import src.utils\n",
    "import src.data"
   ]
  },
  {
   "cell_type": "code",
   "execution_count": 23,
   "metadata": {
    "colab": {
     "base_uri": "https://localhost:8080/"
    },
    "id": "eg81uNTWixbi",
    "outputId": "9c0f9eda-75fb-4526-e9b6-f9a76eeeb007"
   },
   "outputs": [],
   "source": [
    "if False:\n",
    "    from nltk.corpus import brown\n",
    "    from nltk.tokenize import RegexpTokenizer\n",
    "    import gensim\n",
    "\n",
    "\n",
    "    #from ntlk.stem import *\n",
    "\n",
    "    nltk.download('brown')\n",
    "    nltk.download('punkt')\n",
    "\n",
    "    # Output, save, and load brown embeddings\n",
    "\n",
    "    model = gensim.models.Word2Vec(brown.sents())\n",
    "    model.save('brown.embedding')\n",
    "\n",
    "    w2v = gensim.models.Word2Vec.load('brown.embedding')\n",
    "\n",
    "\n",
    "\n",
    "    def loadDF(path):\n",
    "      '''\n",
    "\n",
    "      You will use this function to load the dataset into a Pandas Dataframe for processing.\n",
    "\n",
    "      '''\n",
    "      return df\n",
    "\n",
    "\n",
    "    def prepare_text(sentence):\n",
    "\n",
    "        '''\n",
    "\n",
    "        Our text needs to be cleaned with a tokenizer. This function will perform that task.\n",
    "        https://www.nltk.org/api/nltk.tokenize.html\n",
    "\n",
    "        '''\n",
    "\n",
    "        return tokens\n",
    "\n",
    "\n",
    "\n",
    "    def train_test_split(SRC, TRG):\n",
    "\n",
    "        '''\n",
    "        Input: SRC, our list of questions from the dataset\n",
    "                TRG, our list of responses from the dataset\n",
    "\n",
    "        Output: Training and test datasets for SRC & TRG\n",
    "\n",
    "        '''\n",
    "        share = 0.2\n",
    "        src_split = len(SRC)*share\n",
    "        trg_split = len(TRG)*share\n",
    "        SRC_test_dataset = SRC[:scr_split]\n",
    "        SRC_train_dataset = SRC[scr_split:]\n",
    "        TRG_test_dataset = SRC[:trg_split]\n",
    "        TRG_train_dataset = SRC[trg_split:]\n",
    "\n",
    "\n",
    "        return SRC_train_dataset, SRC_test_dataset, TRG_train_dataset, TRG_test_dataset\n"
   ]
  },
  {
   "cell_type": "markdown",
   "metadata": {},
   "source": [
    "### Get and watch the data"
   ]
  },
  {
   "cell_type": "code",
   "execution_count": 24,
   "metadata": {},
   "outputs": [
    {
     "name": "stdout",
     "output_type": "stream",
     "text": [
      "87599 training samples and 10570 have been loaded.\n",
      "The test data makes 89.2% of all the data.\n"
     ]
    },
    {
     "data": {
      "text/html": [
       "<div>\n",
       "<style scoped>\n",
       "    .dataframe tbody tr th:only-of-type {\n",
       "        vertical-align: middle;\n",
       "    }\n",
       "\n",
       "    .dataframe tbody tr th {\n",
       "        vertical-align: top;\n",
       "    }\n",
       "\n",
       "    .dataframe thead th {\n",
       "        text-align: right;\n",
       "    }\n",
       "</style>\n",
       "<table border=\"1\" class=\"dataframe\">\n",
       "  <thead>\n",
       "    <tr style=\"text-align: right;\">\n",
       "      <th></th>\n",
       "      <th>Unnamed: 0</th>\n",
       "      <th>context</th>\n",
       "      <th>question</th>\n",
       "      <th>answer</th>\n",
       "      <th>answer_start</th>\n",
       "    </tr>\n",
       "  </thead>\n",
       "  <tbody>\n",
       "    <tr>\n",
       "      <th>0</th>\n",
       "      <td>0</td>\n",
       "      <td>Architecturally, the school has a Catholic cha...</td>\n",
       "      <td>To whom did the Virgin Mary allegedly appear i...</td>\n",
       "      <td>['Saint Bernadette Soubirous']</td>\n",
       "      <td>[515]</td>\n",
       "    </tr>\n",
       "    <tr>\n",
       "      <th>1</th>\n",
       "      <td>1</td>\n",
       "      <td>Architecturally, the school has a Catholic cha...</td>\n",
       "      <td>What is in front of the Notre Dame Main Building?</td>\n",
       "      <td>['a copper statue of Christ']</td>\n",
       "      <td>[188]</td>\n",
       "    </tr>\n",
       "    <tr>\n",
       "      <th>2</th>\n",
       "      <td>2</td>\n",
       "      <td>Architecturally, the school has a Catholic cha...</td>\n",
       "      <td>The Basilica of the Sacred heart at Notre Dame...</td>\n",
       "      <td>['the Main Building']</td>\n",
       "      <td>[279]</td>\n",
       "    </tr>\n",
       "    <tr>\n",
       "      <th>3</th>\n",
       "      <td>3</td>\n",
       "      <td>Architecturally, the school has a Catholic cha...</td>\n",
       "      <td>What is the Grotto at Notre Dame?</td>\n",
       "      <td>['a Marian place of prayer and reflection']</td>\n",
       "      <td>[381]</td>\n",
       "    </tr>\n",
       "    <tr>\n",
       "      <th>4</th>\n",
       "      <td>4</td>\n",
       "      <td>Architecturally, the school has a Catholic cha...</td>\n",
       "      <td>What sits on top of the Main Building at Notre...</td>\n",
       "      <td>['a golden statue of the Virgin Mary']</td>\n",
       "      <td>[92]</td>\n",
       "    </tr>\n",
       "  </tbody>\n",
       "</table>\n",
       "</div>"
      ],
      "text/plain": [
       "   Unnamed: 0                                            context  \\\n",
       "0           0  Architecturally, the school has a Catholic cha...   \n",
       "1           1  Architecturally, the school has a Catholic cha...   \n",
       "2           2  Architecturally, the school has a Catholic cha...   \n",
       "3           3  Architecturally, the school has a Catholic cha...   \n",
       "4           4  Architecturally, the school has a Catholic cha...   \n",
       "\n",
       "                                            question  \\\n",
       "0  To whom did the Virgin Mary allegedly appear i...   \n",
       "1  What is in front of the Notre Dame Main Building?   \n",
       "2  The Basilica of the Sacred heart at Notre Dame...   \n",
       "3                  What is the Grotto at Notre Dame?   \n",
       "4  What sits on top of the Main Building at Notre...   \n",
       "\n",
       "                                        answer answer_start  \n",
       "0               ['Saint Bernadette Soubirous']        [515]  \n",
       "1                ['a copper statue of Christ']        [188]  \n",
       "2                        ['the Main Building']        [279]  \n",
       "3  ['a Marian place of prayer and reflection']        [381]  \n",
       "4       ['a golden statue of the Virgin Mary']         [92]  "
      ]
     },
     "execution_count": 24,
     "metadata": {},
     "output_type": "execute_result"
    }
   ],
   "source": [
    "if init:\n",
    "    data.squad1_to_csv()\n",
    "    \n",
    "df_train = pd.read_csv('data/train_dataset_squad1.csv')  \n",
    "df_test = pd.read_csv('data/dev_dataset_squad1.csv') \n",
    "split = round(len(df_train)*100/(len(df_train)+len(df_test)),1)\n",
    "print(f\"{len(df_train)} training samples and {len(df_test)} have been loaded.\")\n",
    "print(f\"The test data makes {split}% of all the data.\")\n",
    "df_train.head()"
   ]
  },
  {
   "cell_type": "markdown",
   "metadata": {},
   "source": [
    "### Create vocabulary and dictionary"
   ]
  },
  {
   "cell_type": "code",
   "execution_count": 25,
   "metadata": {},
   "outputs": [
    {
     "name": "stdout",
     "output_type": "stream",
     "text": [
      "source: 42861 target: 49975 common words: 23297\n"
     ]
    }
   ],
   "source": [
    "vocab_source = src.utils.Vocab(name='source')\n",
    "vocab_target = src.utils.Vocab(name='target')\n",
    "\n",
    "questions = [vocab_source.clean_text(s[2:-2]) for s in df_train[\"answer\"].values.tolist()]\n",
    "answers = [vocab_target.clean_text(q[2:-2]) for q in df_train[\"question\"].values.tolist()]\n",
    "\n",
    "\n",
    "count = 0\n",
    "for q, a in zip(questions, answers):\n",
    "\n",
    "    PAD = \"<PAD>\"\n",
    "    SOS = \"<SOS>\"\n",
    "    EOS = \"<EOS>\"\n",
    "    OUT = \"<OUT>\"\n",
    "    special_tokens = [\"<PAD>\", \"<SOS>\", \"<EOS>\", \"<OUT>\"]\n",
    "    for word in special_tokens + q:\n",
    "        vocab_source.indexWord(word)\n",
    "    for word in special_tokens + a:\n",
    "        vocab_target.indexWord(word)\n",
    "\n",
    "print(\"source:\", len(vocab_source.words), \"target:\", len(vocab_target.words), \"common words:\", len(list(set(vocab_source.words.keys()).intersection(set(vocab_target.words.keys())))))\n",
    "\n",
    "questions = src.utils.tokenize_questions(questions, vocab_source)\n",
    "answers = src.utils.tokenize_answers(answers, vocab_target)\n"
   ]
  },
  {
   "cell_type": "code",
   "execution_count": 26,
   "metadata": {},
   "outputs": [
    {
     "data": {
      "text/plain": [
       "torch.Size([87599, 45])"
      ]
     },
     "execution_count": 26,
     "metadata": {},
     "output_type": "execute_result"
    }
   ],
   "source": [
    "questions.shape"
   ]
  },
  {
   "cell_type": "markdown",
   "metadata": {},
   "source": [
    "### Calculating sequence necessary sequence length"
   ]
  },
  {
   "cell_type": "code",
   "execution_count": 27,
   "metadata": {},
   "outputs": [
    {
     "name": "stdout",
     "output_type": "stream",
     "text": [
      "torch.Size([30, 45]) torch.Size([30, 41])\n"
     ]
    }
   ],
   "source": [
    "loader  = DataLoader(list(zip(questions, answers)), shuffle = False, batch_size = 30)\n",
    "for a, b in loader:\n",
    "    print(a.shape, b.shape)\n",
    "    break"
   ]
  },
  {
   "cell_type": "code",
   "execution_count": 28,
   "metadata": {},
   "outputs": [
    {
     "name": "stdout",
     "output_type": "stream",
     "text": [
      "The source sequence has to have a length of 45. And the target sequence has to have a length of 41.\n"
     ]
    }
   ],
   "source": [
    "\n",
    "sequence_length_source = src.utils.get_sequence_length(questions)\n",
    "sequence_length_target = src.utils.get_sequence_length(answers)\n",
    "print(f\"The source sequence has to have a length of {sequence_length_source}. And the target sequence has to have a length of {sequence_length_target}.\")\n"
   ]
  },
  {
   "cell_type": "code",
   "execution_count": null,
   "metadata": {},
   "outputs": [],
   "source": []
  },
  {
   "cell_type": "markdown",
   "metadata": {},
   "source": [
    "### Tests"
   ]
  },
  {
   "cell_type": "code",
   "execution_count": 29,
   "metadata": {},
   "outputs": [],
   "source": [
    "if test:\n",
    "    !python -m pytest -vv tests.py"
   ]
  },
  {
   "cell_type": "markdown",
   "metadata": {},
   "source": [
    "### Defining the model"
   ]
  },
  {
   "cell_type": "code",
   "execution_count": 30,
   "metadata": {
    "id": "oQLTP2Wmi1eB"
   },
   "outputs": [],
   "source": [
    "import torch.nn as nn\n",
    "class Encoder(nn.Module):\n",
    "    \n",
    "    def __init__(self, input_size, hidden_size):\n",
    "        \n",
    "        super(Encoder, self).__init__()\n",
    "        \n",
    "        # self.embedding provides a vector representation of the inputs to our model\n",
    "        self.embedding = nn.Embedding(input_size, hidden_size)\n",
    "        \n",
    "        # self.lstm, accepts the vectorized input and passes a hidden state\n",
    "        self.lstm = nn.LSTM(hidden_size, hidden_size)\n",
    "        self.dropout = nn.Dropout(p=0.0)\n",
    "        \n",
    "    \n",
    "    def forward(self, i, h):\n",
    "        \n",
    "        '''\n",
    "        Inputs: i, the src vector\n",
    "        Outputs: o, the encoder outputs\n",
    "                h, the hidden state (actually a tuple of hidden state and cell state)\n",
    "        '''\n",
    "        embedding = self.embedding(i)\n",
    "        x,y = h\n",
    "        o, h= self.lstm(embedding, h)\n",
    "        o = self.dropout(o)\n",
    "        \n",
    "        return o, h\n",
    "    \n",
    "\n",
    "class Decoder(nn.Module):\n",
    "      \n",
    "    def __init__(self, hidden_size, output_size):\n",
    "        \n",
    "        super(Decoder, self).__init__()\n",
    "        \n",
    "        # self.embedding provides a vector representation of the target to our model\n",
    "        self.embedding = nn.Embedding(output_size, hidden_size)\n",
    "        \n",
    "        # self.lstm, accepts the embeddings and outputs a hidden state\n",
    "        self.lstm = nn.LSTM(hidden_size, hidden_size)\n",
    "\n",
    "        # self.ouput, predicts on the hidden state via a linear output layer  \n",
    "        self.linear = nn.Linear(hidden_size, output_size)\n",
    "        \n",
    "        self.softmax = nn.Softmax(dim=1)\n",
    "        \n",
    "    def forward(self, i, h):\n",
    "        \n",
    "        '''\n",
    "        Inputs: i, the target vector\n",
    "        Outputs: o, the decoder output\n",
    "                h, the hidden state (actually a tuple of hidden state and cell state)\n",
    "        '''\n",
    "\n",
    "        embedding = self.embedding(i)\n",
    "\n",
    "        o, h = self.lstm(embedding, h)\n",
    "\n",
    "        o = self.linear(o)\n",
    "\n",
    "        o = self.softmax(o)\n",
    "\n",
    "        \n",
    "        return o, h\n",
    "        \n",
    "        \n",
    "\n",
    "class Seq2Seq(nn.Module):\n",
    "    \n",
    "    def __init__(self, input_size, hidden_size, output_size):\n",
    "        \n",
    "        super(Seq2Seq, self).__init__()\n",
    "        self.encoder = Encoder(input_size, hidden_size)\n",
    "        self.decoder = Decoder(hidden_size, output_size)\n",
    "                \n",
    "        \n",
    "    \n",
    "    \n",
    "    def forward(self, src, trg, start, teacher_forcing_ratio = 0.5): \n",
    "        '''\n",
    "        Inputs: src, the source vector\n",
    "                trg, the target vector\n",
    "        Outputs: o, the prediction\n",
    "                \n",
    "        '''\n",
    "        device = torch.device(\"cuda\" if torch.cuda.is_available() else \"cpu\")\n",
    "        src.to(device)\n",
    "        trg.to(device)\n",
    "        start.to(device)\n",
    "        \n",
    "            \n",
    "        \n",
    "        # encoder\n",
    "        hidden = (torch.zeros(1,hidden_size).to(device), torch.zeros(1,hidden_size).to(device))\n",
    "        for word in src:\n",
    "            #print(\"word\",word.shape,word)\n",
    "            o, hidden = self.encoder(word.view(-1).to(device), hidden)\n",
    "        \n",
    "        # decoder\n",
    "        o = start\n",
    "        \n",
    "        prediction = []\n",
    "        for word in trg:\n",
    "            #print(\"o\", o)\n",
    "            #print(\"o.view(-1)\",o.view(-1))\n",
    "            o, hidden = self.decoder(o.view(-1).to(device), hidden)\n",
    "            prediction.append(o)\n",
    "\n",
    "            if self.training:\n",
    "                o = word if random.random() < teacher_forcing_ratio else torch.argmax(o,dim=1)\n",
    "            else:\n",
    "                o = torch.argmax(o,dim=1)\n",
    "            \n",
    "\n",
    "            \n",
    "        \n",
    "        return torch.stack(prediction).squeeze(1)\n",
    "\n",
    "    \n",
    "\n"
   ]
  },
  {
   "cell_type": "markdown",
   "metadata": {},
   "source": [
    "### Getting the data"
   ]
  },
  {
   "cell_type": "markdown",
   "metadata": {},
   "source": [
    "### Training"
   ]
  },
  {
   "cell_type": "code",
   "execution_count": 31,
   "metadata": {},
   "outputs": [
    {
     "data": {
      "text/plain": [
       "torch.Size([87599, 45])"
      ]
     },
     "execution_count": 31,
     "metadata": {},
     "output_type": "execute_result"
    }
   ],
   "source": [
    "questions.shape"
   ]
  },
  {
   "cell_type": "code",
   "execution_count": 32,
   "metadata": {},
   "outputs": [
    {
     "name": "stdout",
     "output_type": "stream",
     "text": [
      "is cuda: True\n",
      "0 -1.956096156163767e-05\n",
      "50 -1.952518056214103e-05\n",
      "100 -1.9525384459484485e-05\n",
      "150 -1.939486793389733e-05\n",
      "200 -1.9587085773764557e-05\n",
      "250 -1.9597147741023946e-05\n",
      "300 -1.963699156704024e-05\n",
      "350 -1.9657596169508906e-05\n",
      "400 -1.9516624831794616e-05\n",
      "450 -1.9582407844609406e-05\n",
      "500 -1.9777185741531866e-05\n"
     ]
    },
    {
     "ename": "KeyboardInterrupt",
     "evalue": "",
     "output_type": "error",
     "traceback": [
      "\u001b[0;31m---------------------------------------------------------------------------\u001b[0m",
      "\u001b[0;31mKeyboardInterrupt\u001b[0m                         Traceback (most recent call last)",
      "\u001b[0;32m<ipython-input-32-31b3f46ebbb8>\u001b[0m in \u001b[0;36m<module>\u001b[0;34m\u001b[0m\n\u001b[1;32m     40\u001b[0m             \u001b[0mstart\u001b[0m \u001b[0;34m=\u001b[0m \u001b[0mnext\u001b[0m\u001b[0;34m(\u001b[0m\u001b[0miter\u001b[0m\u001b[0;34m(\u001b[0m\u001b[0mtorch\u001b[0m\u001b[0;34m.\u001b[0m\u001b[0mLongTensor\u001b[0m\u001b[0;34m(\u001b[0m\u001b[0;34m[\u001b[0m\u001b[0mvocab_target\u001b[0m\u001b[0;34m.\u001b[0m\u001b[0mwords\u001b[0m\u001b[0;34m[\u001b[0m\u001b[0;34m\"<SOS>\"\u001b[0m\u001b[0;34m]\u001b[0m\u001b[0;34m]\u001b[0m\u001b[0;34m)\u001b[0m\u001b[0;34m)\u001b[0m\u001b[0;34m)\u001b[0m\u001b[0;34m\u001b[0m\u001b[0;34m\u001b[0m\u001b[0m\n\u001b[1;32m     41\u001b[0m             \u001b[0moptim\u001b[0m\u001b[0;34m.\u001b[0m\u001b[0mzero_grad\u001b[0m\u001b[0;34m(\u001b[0m\u001b[0;34m)\u001b[0m\u001b[0;34m\u001b[0m\u001b[0;34m\u001b[0m\u001b[0m\n\u001b[0;32m---> 42\u001b[0;31m             \u001b[0moutput\u001b[0m \u001b[0;34m=\u001b[0m \u001b[0mmodel\u001b[0m\u001b[0;34m(\u001b[0m\u001b[0mq\u001b[0m\u001b[0;34m,\u001b[0m\u001b[0ma\u001b[0m\u001b[0;34m,\u001b[0m\u001b[0mstart\u001b[0m\u001b[0;34m)\u001b[0m\u001b[0;34m\u001b[0m\u001b[0;34m\u001b[0m\u001b[0m\n\u001b[0m\u001b[1;32m     43\u001b[0m \u001b[0;34m\u001b[0m\u001b[0m\n\u001b[1;32m     44\u001b[0m             \u001b[0mrand\u001b[0m \u001b[0;34m=\u001b[0m \u001b[0mrandom\u001b[0m\u001b[0;34m.\u001b[0m\u001b[0muniform\u001b[0m\u001b[0;34m(\u001b[0m\u001b[0;36m0\u001b[0m\u001b[0;34m,\u001b[0m\u001b[0;36m1\u001b[0m\u001b[0;34m)\u001b[0m\u001b[0;34m\u001b[0m\u001b[0;34m\u001b[0m\u001b[0m\n",
      "\u001b[0;32m/opt/conda/lib/python3.7/site-packages/torch/nn/modules/module.py\u001b[0m in \u001b[0;36m_call_impl\u001b[0;34m(self, *input, **kwargs)\u001b[0m\n\u001b[1;32m   1108\u001b[0m         if not (self._backward_hooks or self._forward_hooks or self._forward_pre_hooks or _global_backward_hooks\n\u001b[1;32m   1109\u001b[0m                 or _global_forward_hooks or _global_forward_pre_hooks):\n\u001b[0;32m-> 1110\u001b[0;31m             \u001b[0;32mreturn\u001b[0m \u001b[0mforward_call\u001b[0m\u001b[0;34m(\u001b[0m\u001b[0;34m*\u001b[0m\u001b[0minput\u001b[0m\u001b[0;34m,\u001b[0m \u001b[0;34m**\u001b[0m\u001b[0mkwargs\u001b[0m\u001b[0;34m)\u001b[0m\u001b[0;34m\u001b[0m\u001b[0;34m\u001b[0m\u001b[0m\n\u001b[0m\u001b[1;32m   1111\u001b[0m         \u001b[0;31m# Do not call functions when jit is used\u001b[0m\u001b[0;34m\u001b[0m\u001b[0;34m\u001b[0m\u001b[0;34m\u001b[0m\u001b[0m\n\u001b[1;32m   1112\u001b[0m         \u001b[0mfull_backward_hooks\u001b[0m\u001b[0;34m,\u001b[0m \u001b[0mnon_full_backward_hooks\u001b[0m \u001b[0;34m=\u001b[0m \u001b[0;34m[\u001b[0m\u001b[0;34m]\u001b[0m\u001b[0;34m,\u001b[0m \u001b[0;34m[\u001b[0m\u001b[0;34m]\u001b[0m\u001b[0;34m\u001b[0m\u001b[0;34m\u001b[0m\u001b[0m\n",
      "\u001b[0;32m<ipython-input-30-9f6ff9cde402>\u001b[0m in \u001b[0;36mforward\u001b[0;34m(self, src, trg, start, teacher_forcing_ratio)\u001b[0m\n\u001b[1;32m     96\u001b[0m         \u001b[0;32mfor\u001b[0m \u001b[0mword\u001b[0m \u001b[0;32min\u001b[0m \u001b[0msrc\u001b[0m\u001b[0;34m:\u001b[0m\u001b[0;34m\u001b[0m\u001b[0;34m\u001b[0m\u001b[0m\n\u001b[1;32m     97\u001b[0m             \u001b[0;31m#print(\"word\",word.shape,word)\u001b[0m\u001b[0;34m\u001b[0m\u001b[0;34m\u001b[0m\u001b[0;34m\u001b[0m\u001b[0m\n\u001b[0;32m---> 98\u001b[0;31m             \u001b[0mo\u001b[0m\u001b[0;34m,\u001b[0m \u001b[0mhidden\u001b[0m \u001b[0;34m=\u001b[0m \u001b[0mself\u001b[0m\u001b[0;34m.\u001b[0m\u001b[0mencoder\u001b[0m\u001b[0;34m(\u001b[0m\u001b[0mword\u001b[0m\u001b[0;34m.\u001b[0m\u001b[0mview\u001b[0m\u001b[0;34m(\u001b[0m\u001b[0;34m-\u001b[0m\u001b[0;36m1\u001b[0m\u001b[0;34m)\u001b[0m\u001b[0;34m.\u001b[0m\u001b[0mto\u001b[0m\u001b[0;34m(\u001b[0m\u001b[0mdevice\u001b[0m\u001b[0;34m)\u001b[0m\u001b[0;34m,\u001b[0m \u001b[0mhidden\u001b[0m\u001b[0;34m)\u001b[0m\u001b[0;34m\u001b[0m\u001b[0;34m\u001b[0m\u001b[0m\n\u001b[0m\u001b[1;32m     99\u001b[0m \u001b[0;34m\u001b[0m\u001b[0m\n\u001b[1;32m    100\u001b[0m         \u001b[0;31m# decoder\u001b[0m\u001b[0;34m\u001b[0m\u001b[0;34m\u001b[0m\u001b[0;34m\u001b[0m\u001b[0m\n",
      "\u001b[0;32m/opt/conda/lib/python3.7/site-packages/torch/nn/modules/module.py\u001b[0m in \u001b[0;36m_call_impl\u001b[0;34m(self, *input, **kwargs)\u001b[0m\n\u001b[1;32m   1108\u001b[0m         if not (self._backward_hooks or self._forward_hooks or self._forward_pre_hooks or _global_backward_hooks\n\u001b[1;32m   1109\u001b[0m                 or _global_forward_hooks or _global_forward_pre_hooks):\n\u001b[0;32m-> 1110\u001b[0;31m             \u001b[0;32mreturn\u001b[0m \u001b[0mforward_call\u001b[0m\u001b[0;34m(\u001b[0m\u001b[0;34m*\u001b[0m\u001b[0minput\u001b[0m\u001b[0;34m,\u001b[0m \u001b[0;34m**\u001b[0m\u001b[0mkwargs\u001b[0m\u001b[0;34m)\u001b[0m\u001b[0;34m\u001b[0m\u001b[0;34m\u001b[0m\u001b[0m\n\u001b[0m\u001b[1;32m   1111\u001b[0m         \u001b[0;31m# Do not call functions when jit is used\u001b[0m\u001b[0;34m\u001b[0m\u001b[0;34m\u001b[0m\u001b[0;34m\u001b[0m\u001b[0m\n\u001b[1;32m   1112\u001b[0m         \u001b[0mfull_backward_hooks\u001b[0m\u001b[0;34m,\u001b[0m \u001b[0mnon_full_backward_hooks\u001b[0m \u001b[0;34m=\u001b[0m \u001b[0;34m[\u001b[0m\u001b[0;34m]\u001b[0m\u001b[0;34m,\u001b[0m \u001b[0;34m[\u001b[0m\u001b[0;34m]\u001b[0m\u001b[0;34m\u001b[0m\u001b[0;34m\u001b[0m\u001b[0m\n",
      "\u001b[0;32m<ipython-input-30-9f6ff9cde402>\u001b[0m in \u001b[0;36mforward\u001b[0;34m(self, i, h)\u001b[0m\n\u001b[1;32m     21\u001b[0m                 \u001b[0mh\u001b[0m\u001b[0;34m,\u001b[0m \u001b[0mthe\u001b[0m \u001b[0mhidden\u001b[0m \u001b[0mstate\u001b[0m \u001b[0;34m(\u001b[0m\u001b[0mactually\u001b[0m \u001b[0ma\u001b[0m \u001b[0mtuple\u001b[0m \u001b[0mof\u001b[0m \u001b[0mhidden\u001b[0m \u001b[0mstate\u001b[0m \u001b[0;32mand\u001b[0m \u001b[0mcell\u001b[0m \u001b[0mstate\u001b[0m\u001b[0;34m)\u001b[0m\u001b[0;34m\u001b[0m\u001b[0;34m\u001b[0m\u001b[0m\n\u001b[1;32m     22\u001b[0m         '''\n\u001b[0;32m---> 23\u001b[0;31m         \u001b[0membedding\u001b[0m \u001b[0;34m=\u001b[0m \u001b[0mself\u001b[0m\u001b[0;34m.\u001b[0m\u001b[0membedding\u001b[0m\u001b[0;34m(\u001b[0m\u001b[0mi\u001b[0m\u001b[0;34m)\u001b[0m\u001b[0;34m\u001b[0m\u001b[0;34m\u001b[0m\u001b[0m\n\u001b[0m\u001b[1;32m     24\u001b[0m         \u001b[0mx\u001b[0m\u001b[0;34m,\u001b[0m\u001b[0my\u001b[0m \u001b[0;34m=\u001b[0m \u001b[0mh\u001b[0m\u001b[0;34m\u001b[0m\u001b[0;34m\u001b[0m\u001b[0m\n\u001b[1;32m     25\u001b[0m         \u001b[0mo\u001b[0m\u001b[0;34m,\u001b[0m \u001b[0mh\u001b[0m\u001b[0;34m=\u001b[0m \u001b[0mself\u001b[0m\u001b[0;34m.\u001b[0m\u001b[0mlstm\u001b[0m\u001b[0;34m(\u001b[0m\u001b[0membedding\u001b[0m\u001b[0;34m,\u001b[0m \u001b[0mh\u001b[0m\u001b[0;34m)\u001b[0m\u001b[0;34m\u001b[0m\u001b[0;34m\u001b[0m\u001b[0m\n",
      "\u001b[0;32m/opt/conda/lib/python3.7/site-packages/torch/nn/modules/module.py\u001b[0m in \u001b[0;36m__getattr__\u001b[0;34m(self, name)\u001b[0m\n\u001b[1;32m   1171\u001b[0m \u001b[0;34m\u001b[0m\u001b[0m\n\u001b[1;32m   1172\u001b[0m     \u001b[0;32mdef\u001b[0m \u001b[0m__getattr__\u001b[0m\u001b[0;34m(\u001b[0m\u001b[0mself\u001b[0m\u001b[0;34m,\u001b[0m \u001b[0mname\u001b[0m\u001b[0;34m:\u001b[0m \u001b[0mstr\u001b[0m\u001b[0;34m)\u001b[0m \u001b[0;34m->\u001b[0m \u001b[0mUnion\u001b[0m\u001b[0;34m[\u001b[0m\u001b[0mTensor\u001b[0m\u001b[0;34m,\u001b[0m \u001b[0;34m'Module'\u001b[0m\u001b[0;34m]\u001b[0m\u001b[0;34m:\u001b[0m\u001b[0;34m\u001b[0m\u001b[0;34m\u001b[0m\u001b[0m\n\u001b[0;32m-> 1173\u001b[0;31m         \u001b[0;32mif\u001b[0m \u001b[0;34m'_parameters'\u001b[0m \u001b[0;32min\u001b[0m \u001b[0mself\u001b[0m\u001b[0;34m.\u001b[0m\u001b[0m__dict__\u001b[0m\u001b[0;34m:\u001b[0m\u001b[0;34m\u001b[0m\u001b[0;34m\u001b[0m\u001b[0m\n\u001b[0m\u001b[1;32m   1174\u001b[0m             \u001b[0m_parameters\u001b[0m \u001b[0;34m=\u001b[0m \u001b[0mself\u001b[0m\u001b[0;34m.\u001b[0m\u001b[0m__dict__\u001b[0m\u001b[0;34m[\u001b[0m\u001b[0;34m'_parameters'\u001b[0m\u001b[0;34m]\u001b[0m\u001b[0;34m\u001b[0m\u001b[0;34m\u001b[0m\u001b[0m\n\u001b[1;32m   1175\u001b[0m             \u001b[0;32mif\u001b[0m \u001b[0mname\u001b[0m \u001b[0;32min\u001b[0m \u001b[0m_parameters\u001b[0m\u001b[0;34m:\u001b[0m\u001b[0;34m\u001b[0m\u001b[0;34m\u001b[0m\u001b[0m\n",
      "\u001b[0;31mKeyboardInterrupt\u001b[0m: "
     ]
    }
   ],
   "source": [
    "questions = src.utils.tokenize_questions(questions, vocab_source)\n",
    "answers = src.utils.tokenize_answers(answers, vocab_target)\n",
    "\n",
    "device = torch.device(\"cuda\" if torch.cuda.is_available() else \"cpu\")\n",
    "is_cuda = torch.cuda.is_available()\n",
    "#is_cuda = False\n",
    "print(\"is cuda:\",is_cuda)\n",
    "\n",
    "\n",
    "# hyperparams\n",
    "epochs = 1\n",
    "batch_size = len(df_train)\n",
    "batch_size = 32\n",
    "hidden_size = 10\n",
    "lr = 0.01\n",
    "teacher_forcing_ratio = 0.5\n",
    "loader  = DataLoader(list(zip(questions, answers)), shuffle = False, batch_size = batch_size)\n",
    "\n",
    "\n",
    "# model\n",
    "input_size = len(vocab_source.words)\n",
    "hidden_size = hidden_size\n",
    "output_size = len(vocab_target.words)\n",
    "model = Seq2Seq(input_size, hidden_size, output_size)\n",
    "model.to(device)\n",
    "    \n",
    "#\n",
    "optim = torch.optim.SGD(model.parameters(), lr=lr)\n",
    "loss_fn = nn.NLLLoss()\n",
    "\n",
    "\n",
    "# training\n",
    "\n",
    "epoch = 0\n",
    "for epoch in range(epochs):\n",
    "\n",
    "    for batch_i, (questions, answers) in enumerate(loader):\n",
    "        batch_loss = 0\n",
    "        for q, a in zip(questions, answers):       \n",
    "            start = next(iter(torch.LongTensor([vocab_target.words[\"<SOS>\"]])))\n",
    "            optim.zero_grad()\n",
    "            output = model(q,a,start)\n",
    "            \n",
    "            rand = random.uniform(0,1)\n",
    "            loss = loss_fn(output, a.to(device))\n",
    "            loss.backward(retain_graph=True)\n",
    "            optim.step()\n",
    "            batch_loss += loss.item()\n",
    "            #print(\"loss:\",loss.item())\n",
    "        if batch_i % 50 == 0:\n",
    "            print(batch_i,batch_loss/batch_size)\n",
    "\n",
    "            \n",
    "        "
   ]
  },
  {
   "cell_type": "code",
   "execution_count": null,
   "metadata": {},
   "outputs": [],
   "source": [
    "print(qt)\n",
    "print(trg)\n",
    "print(hidden)"
   ]
  },
  {
   "cell_type": "code",
   "execution_count": null,
   "metadata": {},
   "outputs": [],
   "source": [
    "torch.cuda.memory_summary(device='cuda', abbreviated=False)"
   ]
  },
  {
   "cell_type": "code",
   "execution_count": null,
   "metadata": {},
   "outputs": [],
   "source": [
    "t = torch.Tensor(2)\n",
    "#t = t.view(1,-1)\n",
    "t.shape\n",
    "t=t.view()\n",
    "t\n"
   ]
  },
  {
   "cell_type": "code",
   "execution_count": null,
   "metadata": {},
   "outputs": [],
   "source": [
    "at = at.view(-1)\n",
    "output = output.squeeze(0)\n",
    "print(at.shape)\n",
    "print(output.shape)\n",
    "loss_fn(output,at)"
   ]
  },
  {
   "cell_type": "code",
   "execution_count": null,
   "metadata": {},
   "outputs": [],
   "source": [
    "# is_cuda = torch.cuda.is_available()\n",
    "# print(is_cuda)\n",
    "\n",
    "# import torch.optim\n",
    "# # hyperparams\n",
    "# epochs = 1\n",
    "# batch_size = len(df_train)\n",
    "# batch_size = 10\n",
    "# hidden_size = 100\n",
    "# lr = 0.01\n",
    "# teacher_forcing_ratio = 0.5\n",
    "\n",
    "\n",
    "# # model\n",
    "# encoder_input_size = len(vocab.words)\n",
    "# embedding_size = len(vocab.words)\n",
    "# hidden_size = hidden_size\n",
    "# decoder_output_size = len(vocab.words)\n",
    "# print(encoder_input_size, embedding_size, hidden_size, decoder_output_size)\n",
    "\n",
    "\n",
    "# model = Seq2Seq(encoder_input_size, embedding_size, hidden_size, decoder_output_size)\n",
    "# if is_cuda:\n",
    "#     model.cuda()\n",
    "# optim = torch.optim.SGD(model.parameters(), lr=lr)\n",
    "# loss_fn = nn.NLLLoss()\n",
    "\n",
    "\n",
    "# # training\n",
    "# batches = len(df_train)//batch_size\n",
    "# epoch = 0\n",
    "# for epoch in range(epochs):\n",
    "#     hidden = (torch.zeros(1,1,hidden_size), torch.zeros(1,1,hidden_size))\n",
    "#     for batch in range(batches):\n",
    "                   \n",
    "#         for q, a in zip(questions[:10], answers[:10]):\n",
    "#             trg = torch.LongTensor([[vocab.words[\"<SOS>\"]]])\n",
    "#             print(trg, trg.shape)\n",
    "\n",
    "#             for qt, at in zip(q, a):\n",
    "                \n",
    "#                 optim.zero_grad() \n",
    "#                 at = at.view(1,-1)\n",
    "#                 qt = qt.view(1,-1)\n",
    "#                 if is_cuda:\n",
    "#                     at=at.cuda()\n",
    "#                     qt=qt.cuda()\n",
    "#                     trg=trg.cuda()\n",
    "#                     a,b=hidden\n",
    "#                     hidden = a.cuda(),b.cuda()\n",
    "#                 print(\"trg\", trg.shape)\n",
    "#                 print(\"at\", at.shape)\n",
    "#                 output, hidden = model(qt, trg, hidden)\n",
    "\n",
    "\n",
    "#                 a,b = hidden\n",
    "#                 print(output.shape, at.shape)\n",
    "#                 print(output, at)\n",
    "                \n",
    "#                 rand = random.uniform(0,1)\n",
    "#                 if rand > teacher_forcing_ratio:\n",
    "#                     loss = loss_fn(output, at)\n",
    "#                 else:\n",
    "#                     loss = loss_fn(output, trg)\n",
    "#                 loss.backward()\n",
    "#                 trg = output\n",
    "#                 print(\"###\")\n",
    "            \n",
    "            \n",
    "            \n",
    "#         break\n",
    "#     break\n",
    "        "
   ]
  },
  {
   "cell_type": "code",
   "execution_count": null,
   "metadata": {},
   "outputs": [],
   "source": [
    "for que in questions[:2]:\n",
    "    for word in que:\n",
    "        print(word.shape, word.view(-1).shape,word.view(1,-1).shape,word.view(1,-1), word.view(1,1,-1).shape)"
   ]
  },
  {
   "cell_type": "code",
   "execution_count": null,
   "metadata": {},
   "outputs": [],
   "source": [
    "import src.abc\n",
    "src.abc.test()"
   ]
  },
  {
   "cell_type": "code",
   "execution_count": null,
   "metadata": {},
   "outputs": [],
   "source": [
    "import torch.nn.functional as F\n",
    "F.one_hot(torch.Tensor([19]),50)"
   ]
  }
 ],
 "metadata": {
  "colab": {
   "collapsed_sections": [],
   "name": "(Starter Code) LSTM Bot",
   "provenance": []
  },
  "kernelspec": {
   "display_name": "Python 3",
   "language": "python",
   "name": "python3"
  },
  "language_info": {
   "codemirror_mode": {
    "name": "ipython",
    "version": 3
   },
   "file_extension": ".py",
   "mimetype": "text/x-python",
   "name": "python",
   "nbconvert_exporter": "python",
   "pygments_lexer": "ipython3",
   "version": "3.7.6"
  }
 },
 "nbformat": 4,
 "nbformat_minor": 1
}
