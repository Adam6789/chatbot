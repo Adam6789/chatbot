{
 "cells": [
  {
   "cell_type": "code",
   "execution_count": 14,
   "id": "9d7f3988",
   "metadata": {},
   "outputs": [],
   "source": [
    "#!pip install -U torch torchvision torchtext torchdata pytest torchsummary portalocker"
   ]
  },
  {
   "cell_type": "markdown",
   "id": "db1df04a",
   "metadata": {},
   "source": [
    "### Import libraries"
   ]
  },
  {
   "cell_type": "code",
   "execution_count": 15,
   "id": "d5f2edd4",
   "metadata": {},
   "outputs": [],
   "source": [
    "from data_chatbot import questions_answers, load_df, toTensor, show_lengths, tokenize_questions,tokenize_answers\n",
    "from data_chatbot import pretrained_w2v # prepare_text\n",
    "from models_chatbot import Seq2Seq\n",
    "from vocab_chatbot import Vocab\n",
    "\n",
    "\n",
    "from train_chatbot import pretrain, train\n",
    "from apply_chatbot import answer\n",
    "\n"
   ]
  },
  {
   "cell_type": "markdown",
   "id": "6b2f855a",
   "metadata": {},
   "source": [
    "### Tests"
   ]
  },
  {
   "cell_type": "code",
   "execution_count": 16,
   "id": "897c8ae5",
   "metadata": {},
   "outputs": [
    {
     "name": "stdout",
     "output_type": "stream",
     "text": [
      "============================= test session starts =============================\n",
      "platform win32 -- Python 3.9.12, pytest-7.3.1, pluggy-1.0.0 -- C:\\ProgramData\\Anaconda3\\python.exe\n",
      "cachedir: .pytest_cache\n",
      "rootdir: C:\\Users\\adgryc\\Desktop\\chatbot\\kaggle_workspace\n",
      "plugins: anyio-3.5.0\n",
      "collecting ... collected 2 items\n",
      "\n",
      "tests_chatbot.py::test_seq2seq_forward PASSED                            [ 50%]\n",
      "tests_chatbot.py::test_heteroDataLoader PASSED                           [100%]\n",
      "\n",
      "============================== 2 passed in 1.81s ==============================\n"
     ]
    }
   ],
   "source": [
    "!python -m pytest -vv tests_chatbot.py"
   ]
  },
  {
   "cell_type": "code",
   "execution_count": null,
   "id": "800392f6",
   "metadata": {},
   "outputs": [],
   "source": []
  },
  {
   "cell_type": "markdown",
   "id": "30c3aeb7",
   "metadata": {},
   "source": [
    "### Raw data"
   ]
  },
  {
   "cell_type": "code",
   "execution_count": 17,
   "id": "4846c83d",
   "metadata": {},
   "outputs": [],
   "source": [
    "# source_name = \"poc\"\n",
    "source_name = \"squad1\""
   ]
  },
  {
   "cell_type": "code",
   "execution_count": 18,
   "id": "c2991dc1",
   "metadata": {},
   "outputs": [
    {
     "data": {
      "text/html": [
       "<div>\n",
       "<style scoped>\n",
       "    .dataframe tbody tr th:only-of-type {\n",
       "        vertical-align: middle;\n",
       "    }\n",
       "\n",
       "    .dataframe tbody tr th {\n",
       "        vertical-align: top;\n",
       "    }\n",
       "\n",
       "    .dataframe thead th {\n",
       "        text-align: right;\n",
       "    }\n",
       "</style>\n",
       "<table border=\"1\" class=\"dataframe\">\n",
       "  <thead>\n",
       "    <tr style=\"text-align: right;\">\n",
       "      <th></th>\n",
       "      <th>Unnamed: 0</th>\n",
       "      <th>context</th>\n",
       "      <th>question</th>\n",
       "      <th>answer</th>\n",
       "      <th>answer_start</th>\n",
       "    </tr>\n",
       "  </thead>\n",
       "  <tbody>\n",
       "    <tr>\n",
       "      <th>0</th>\n",
       "      <td>0</td>\n",
       "      <td>Architecturally, the school has a Catholic cha...</td>\n",
       "      <td>To whom did the Virgin Mary allegedly appear i...</td>\n",
       "      <td>['Saint Bernadette Soubirous']</td>\n",
       "      <td>[515]</td>\n",
       "    </tr>\n",
       "    <tr>\n",
       "      <th>1</th>\n",
       "      <td>1</td>\n",
       "      <td>Architecturally, the school has a Catholic cha...</td>\n",
       "      <td>What is in front of the Notre Dame Main Building?</td>\n",
       "      <td>['a copper statue of Christ']</td>\n",
       "      <td>[188]</td>\n",
       "    </tr>\n",
       "    <tr>\n",
       "      <th>2</th>\n",
       "      <td>2</td>\n",
       "      <td>Architecturally, the school has a Catholic cha...</td>\n",
       "      <td>The Basilica of the Sacred heart at Notre Dame...</td>\n",
       "      <td>['the Main Building']</td>\n",
       "      <td>[279]</td>\n",
       "    </tr>\n",
       "    <tr>\n",
       "      <th>3</th>\n",
       "      <td>3</td>\n",
       "      <td>Architecturally, the school has a Catholic cha...</td>\n",
       "      <td>What is the Grotto at Notre Dame?</td>\n",
       "      <td>['a Marian place of prayer and reflection']</td>\n",
       "      <td>[381]</td>\n",
       "    </tr>\n",
       "    <tr>\n",
       "      <th>4</th>\n",
       "      <td>4</td>\n",
       "      <td>Architecturally, the school has a Catholic cha...</td>\n",
       "      <td>What sits on top of the Main Building at Notre...</td>\n",
       "      <td>['a golden statue of the Virgin Mary']</td>\n",
       "      <td>[92]</td>\n",
       "    </tr>\n",
       "  </tbody>\n",
       "</table>\n",
       "</div>"
      ],
      "text/plain": [
       "   Unnamed: 0                                            context  \\\n",
       "0           0  Architecturally, the school has a Catholic cha...   \n",
       "1           1  Architecturally, the school has a Catholic cha...   \n",
       "2           2  Architecturally, the school has a Catholic cha...   \n",
       "3           3  Architecturally, the school has a Catholic cha...   \n",
       "4           4  Architecturally, the school has a Catholic cha...   \n",
       "\n",
       "                                            question  \\\n",
       "0  To whom did the Virgin Mary allegedly appear i...   \n",
       "1  What is in front of the Notre Dame Main Building?   \n",
       "2  The Basilica of the Sacred heart at Notre Dame...   \n",
       "3                  What is the Grotto at Notre Dame?   \n",
       "4  What sits on top of the Main Building at Notre...   \n",
       "\n",
       "                                        answer answer_start  \n",
       "0               ['Saint Bernadette Soubirous']        [515]  \n",
       "1                ['a copper statue of Christ']        [188]  \n",
       "2                        ['the Main Building']        [279]  \n",
       "3  ['a Marian place of prayer and reflection']        [381]  \n",
       "4       ['a golden statue of the Virgin Mary']         [92]  "
      ]
     },
     "execution_count": 18,
     "metadata": {},
     "output_type": "execute_result"
    }
   ],
   "source": [
    "df_train, df_test = load_df(source_name=source_name)\n",
    "df_train.head()"
   ]
  },
  {
   "cell_type": "markdown",
   "id": "6d6e8d3d",
   "metadata": {},
   "source": [
    "### Tokenized sentences"
   ]
  },
  {
   "cell_type": "code",
   "execution_count": 19,
   "id": "02f829e6",
   "metadata": {},
   "outputs": [
    {
     "data": {
      "image/png": "[encoded data removed]",
      "text/plain": [
       "<Figure size 432x288 with 2 Axes>"
      ]
     },
     "metadata": {
      "needs_background": "light"
     },
     "output_type": "display_data"
    }
   ],
   "source": [
    "questions_train_raw, questions_valid_raw, answers_train_raw, answers_valid_raw = questions_answers(source_name=source_name)\n",
    "show_lengths(questions_train_raw, questions_valid_raw, answers_train_raw, answers_valid_raw)"
   ]
  },
  {
   "cell_type": "markdown",
   "id": "aafb70ed",
   "metadata": {},
   "source": [
    "### Filter data"
   ]
  },
  {
   "cell_type": "code",
   "execution_count": 20,
   "id": "af7a2586",
   "metadata": {},
   "outputs": [
    {
     "name": "stdout",
     "output_type": "stream",
     "text": [
      "16845 training questions and 5095 valid questions remain.\n"
     ]
    }
   ],
   "source": [
    "temp = [pair for pair in zip(questions_train_raw, answers_train_raw) if len(pair[1])>3]\n",
    "questions_train_filt, answers_train_filt = map(list, zip(*temp))\n",
    "temp = [pair for pair in zip(questions_valid_raw, answers_valid_raw) if len(pair[1])>3]\n",
    "questions_valid_filt, answers_valid_filt = map(list, zip(*temp))\n",
    "print(f\"{len(questions_train_filt)} training questions and {len(questions_valid_filt)} valid questions remain.\")"
   ]
  },
  {
   "cell_type": "markdown",
   "id": "fdf6733d",
   "metadata": {},
   "source": [
    "### Create vocabularies"
   ]
  },
  {
   "cell_type": "code",
   "execution_count": 21,
   "id": "3854f49c",
   "metadata": {},
   "outputs": [
    {
     "name": "stdout",
     "output_type": "stream",
     "text": [
      "The source vocabulary contains 13715 and the target vocabulary contains 17991 words.\n"
     ]
    }
   ],
   "source": [
    "vQ = Vocab(\"Questions\")\n",
    "for sequence in [[\"<SOS>\", \"<EOS>\"]] + questions_train_filt + questions_valid_filt:\n",
    "    for token in sequence:\n",
    "        vQ.indexWord(token)\n",
    "vA = Vocab(\"Answers\")\n",
    "for sequence in [[\"<SOS>\", \"<EOS>\"]] + answers_train_filt + answers_valid_filt:\n",
    "    for token in sequence:\n",
    "        vA.indexWord(token)\n",
    "print(f\"The source vocabulary contains {len(vQ.words)} and the target vocabulary contains {len(vA.words)} words.\")"
   ]
  },
  {
   "cell_type": "markdown",
   "id": "fd45ba8b",
   "metadata": {},
   "source": [
    "### Create vectors"
   ]
  },
  {
   "cell_type": "code",
   "execution_count": 22,
   "id": "099c4960",
   "metadata": {},
   "outputs": [],
   "source": [
    "questions_train = tokenize_questions(questions_train_filt, vQ)\n",
    "answers_train = tokenize_answers(answers_train_filt, vA)\n",
    "questions_valid = tokenize_questions(questions_valid_filt, vQ)\n",
    "answers_valid = tokenize_answers(answers_valid_filt, vA)"
   ]
  },
  {
   "cell_type": "markdown",
   "id": "30580f30",
   "metadata": {},
   "source": [
    "### Create model"
   ]
  },
  {
   "cell_type": "code",
   "execution_count": 23,
   "id": "4e0e0077",
   "metadata": {},
   "outputs": [],
   "source": [
    "input_size = len(vQ.words)\n",
    "hidden_size = 100\n",
    "output_size = len(vA.words) \n",
    "\n",
    "dropout_E=0.0\n",
    "dropout_D=0.0\n",
    "teacher_forcing_ratio=0.0\n",
    "\n",
    "\n",
    "model = Seq2Seq(input_size, hidden_size, output_size, vQ, vA, dropout_E, dropout_D, teacher_forcing_ratio)"
   ]
  },
  {
   "cell_type": "markdown",
   "id": "c6c38f01",
   "metadata": {},
   "source": [
    "### Utilize pretrained embeddings"
   ]
  },
  {
   "cell_type": "code",
   "execution_count": 24,
   "id": "c9f53fed",
   "metadata": {},
   "outputs": [
    {
     "name": "stdout",
     "output_type": "stream",
     "text": [
      "For 2719 of 13715 words an entry has been found in the brown corpus.\n",
      "For 3000 of 17991 words an entry has been found in the brown corpus.\n"
     ]
    }
   ],
   "source": [
    "w2v = pretrained_w2v(init=False)\n",
    "model = pretrain(model, vQ, vA, w2v)"
   ]
  },
  {
   "cell_type": "markdown",
   "id": "48a2a591",
   "metadata": {},
   "source": [
    "#### => most_similar is not working after adding vector in gensim"
   ]
  },
  {
   "cell_type": "markdown",
   "id": "cee75a25",
   "metadata": {},
   "source": [
    "### Train model"
   ]
  },
  {
   "cell_type": "code",
   "execution_count": null,
   "id": "eef5abe9",
   "metadata": {},
   "outputs": [
    {
     "name": "stdout",
     "output_type": "stream",
     "text": [
      "Loading from checkpoint: 'model_100.pt'\n",
      "Computing on cpu.\n"
     ]
    }
   ],
   "source": [
    "epochs = 100\n",
    "batch_size = 4\n",
    "print_each = 1\n",
    "lr = 0.01\n",
    "weight_decay = 0\n",
    "version = str(hidden_size)\n",
    "train(epochs, batch_size, print_each, lr, weight_decay, model, version, questions_train, answers_train, questions_valid, answers_valid, vQ, vA)"
   ]
  },
  {
   "cell_type": "code",
   "execution_count": null,
   "id": "57adf069",
   "metadata": {},
   "outputs": [],
   "source": [
    "model.eval()\n",
    "for i in [1,2,200,-2,-1]:\n",
    "    answer(model, questions_train[i].view(1,-1), vA, answers_train[i], vQ, 5)"
   ]
  },
  {
   "cell_type": "code",
   "execution_count": null,
   "id": "d125a45d",
   "metadata": {},
   "outputs": [],
   "source": [
    "answers_train"
   ]
  },
  {
   "cell_type": "code",
   "execution_count": null,
   "id": "26874140",
   "metadata": {},
   "outputs": [],
   "source": [
    "import random\n",
    "a=random.randint(0,3)\n",
    "print(a)"
   ]
  },
  {
   "cell_type": "code",
   "execution_count": null,
   "id": "f21c384f",
   "metadata": {},
   "outputs": [],
   "source": [
    "hallo"
   ]
  },
  {
   "cell_type": "code",
   "execution_count": null,
   "id": "82ea5092",
   "metadata": {},
   "outputs": [],
   "source": []
  }
 ],
 "metadata": {
  "kernelspec": {
   "display_name": "Python 3 (ipykernel)",
   "language": "python",
   "name": "python3"
  },
  "language_info": {
   "codemirror_mode": {
    "name": "ipython",
    "version": 3
   },
   "file_extension": ".py",
   "mimetype": "text/x-python",
   "name": "python",
   "nbconvert_exporter": "python",
   "pygments_lexer": "ipython3",
   "version": "3.9.12"
  }
 },
 "nbformat": 4,
 "nbformat_minor": 5
}
