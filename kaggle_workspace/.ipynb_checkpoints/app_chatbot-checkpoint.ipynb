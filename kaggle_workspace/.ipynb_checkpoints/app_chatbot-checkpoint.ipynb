{
 "cells": [
  {
   "cell_type": "code",
   "execution_count": 1,
   "id": "9d7f3988",
   "metadata": {},
   "outputs": [],
   "source": [
    "#!pip install -U torch torchvision torchtext torchdata pytest torchsummary portalocker"
   ]
  },
  {
   "cell_type": "markdown",
   "id": "db1df04a",
   "metadata": {},
   "source": [
    "### Import libraries"
   ]
  },
  {
   "cell_type": "code",
   "execution_count": 11,
   "id": "d5f2edd4",
   "metadata": {},
   "outputs": [],
   "source": [
    "from data_chatbot import questions_answers, load_df, toTensor, show_lengths, tokenize_questions,tokenize_answers\n",
    "from data_chatbot import pretrained_w2v # prepare_text\n",
    "from models_chatbot import Seq2Seq\n",
    "from vocab_chatbot import Vocab\n",
    "\n",
    "### current ToDo: adjust train method in train_chatbot.py\n",
    "\n",
    "from train_chatbot import pretrain, train\n",
    "\n"
   ]
  },
  {
   "cell_type": "code",
   "execution_count": 3,
   "id": "800392f6",
   "metadata": {},
   "outputs": [],
   "source": [
    "source_name = \"poc\"\n",
    "#source_name = \"squad1\""
   ]
  },
  {
   "cell_type": "markdown",
   "id": "30c3aeb7",
   "metadata": {},
   "source": [
    "### Raw data"
   ]
  },
  {
   "cell_type": "code",
   "execution_count": 4,
   "id": "c2991dc1",
   "metadata": {},
   "outputs": [
    {
     "data": {
      "text/html": [
       "<div>\n",
       "<style scoped>\n",
       "    .dataframe tbody tr th:only-of-type {\n",
       "        vertical-align: middle;\n",
       "    }\n",
       "\n",
       "    .dataframe tbody tr th {\n",
       "        vertical-align: top;\n",
       "    }\n",
       "\n",
       "    .dataframe thead th {\n",
       "        text-align: right;\n",
       "    }\n",
       "</style>\n",
       "<table border=\"1\" class=\"dataframe\">\n",
       "  <thead>\n",
       "    <tr style=\"text-align: right;\">\n",
       "      <th></th>\n",
       "      <th>Unnamed: 0</th>\n",
       "      <th>question</th>\n",
       "      <th>answer</th>\n",
       "    </tr>\n",
       "  </thead>\n",
       "  <tbody>\n",
       "    <tr>\n",
       "      <th>0</th>\n",
       "      <td>0</td>\n",
       "      <td>What is your name?</td>\n",
       "      <td>['My name is Vanessa Elliott']</td>\n",
       "    </tr>\n",
       "    <tr>\n",
       "      <th>1</th>\n",
       "      <td>1</td>\n",
       "      <td>What is your name?</td>\n",
       "      <td>['My name is Ada Henderson']</td>\n",
       "    </tr>\n",
       "    <tr>\n",
       "      <th>2</th>\n",
       "      <td>2</td>\n",
       "      <td>What is your name?</td>\n",
       "      <td>['My name is Daniel Grant']</td>\n",
       "    </tr>\n",
       "    <tr>\n",
       "      <th>3</th>\n",
       "      <td>3</td>\n",
       "      <td>What is your name?</td>\n",
       "      <td>['My name is Lydia Carroll']</td>\n",
       "    </tr>\n",
       "    <tr>\n",
       "      <th>4</th>\n",
       "      <td>4</td>\n",
       "      <td>What is your name?</td>\n",
       "      <td>['My name is John Scott']</td>\n",
       "    </tr>\n",
       "  </tbody>\n",
       "</table>\n",
       "</div>"
      ],
      "text/plain": [
       "   Unnamed: 0            question                          answer\n",
       "0           0  What is your name?  ['My name is Vanessa Elliott']\n",
       "1           1  What is your name?    ['My name is Ada Henderson']\n",
       "2           2  What is your name?     ['My name is Daniel Grant']\n",
       "3           3  What is your name?    ['My name is Lydia Carroll']\n",
       "4           4  What is your name?       ['My name is John Scott']"
      ]
     },
     "execution_count": 4,
     "metadata": {},
     "output_type": "execute_result"
    }
   ],
   "source": [
    "df_train, df_test = load_df(source_name=source_name)\n",
    "df_train.head()"
   ]
  },
  {
   "cell_type": "markdown",
   "id": "6d6e8d3d",
   "metadata": {},
   "source": [
    "### Tokenized sentences"
   ]
  },
  {
   "cell_type": "code",
   "execution_count": 5,
   "id": "02f829e6",
   "metadata": {},
   "outputs": [
    {
     "data": {
      "image/png": "[encoded data removed]",
      "text/plain": [
       "<Figure size 432x288 with 2 Axes>"
      ]
     },
     "metadata": {
      "needs_background": "light"
     },
     "output_type": "display_data"
    }
   ],
   "source": [
    "questions_train_raw, questions_valid_raw, answers_train_raw, answers_valid_raw = questions_answers(source_name=source_name)\n",
    "show_lengths(questions_train_raw, questions_valid_raw, answers_train_raw, answers_valid_raw)"
   ]
  },
  {
   "cell_type": "markdown",
   "id": "aafb70ed",
   "metadata": {},
   "source": [
    "### Filter data"
   ]
  },
  {
   "cell_type": "code",
   "execution_count": 6,
   "id": "af7a2586",
   "metadata": {},
   "outputs": [],
   "source": [
    "# if desired remove outliers"
   ]
  },
  {
   "cell_type": "markdown",
   "id": "fdf6733d",
   "metadata": {},
   "source": [
    "### Create vocabularies"
   ]
  },
  {
   "cell_type": "code",
   "execution_count": 7,
   "id": "3854f49c",
   "metadata": {},
   "outputs": [
    {
     "name": "stdout",
     "output_type": "stream",
     "text": [
      "The source vocabulary contains 7 and the target vocabulary contains 146 words.\n"
     ]
    }
   ],
   "source": [
    "vQ = Vocab(\"Questions\")\n",
    "for sequence in [[\"<SOS>\", \"<EOS>\"]] + questions_train_raw + questions_valid_raw:\n",
    "    for token in sequence:\n",
    "        vQ.indexWord(token)\n",
    "vA = Vocab(\"Answers\")\n",
    "for sequence in [[\"<SOS>\", \"<EOS>\"]] + answers_train_raw + answers_valid_raw:\n",
    "    for token in sequence:\n",
    "        vA.indexWord(token)\n",
    "print(f\"The source vocabulary contains {len(vQ.words)} and the target vocabulary contains {len(vA.words)} words.\")"
   ]
  },
  {
   "cell_type": "markdown",
   "id": "fd45ba8b",
   "metadata": {},
   "source": [
    "### Create vectors"
   ]
  },
  {
   "cell_type": "code",
   "execution_count": 8,
   "id": "099c4960",
   "metadata": {},
   "outputs": [],
   "source": [
    "questions_train = tokenize_questions(questions_train_raw, vQ)\n",
    "answers_train = tokenize_answers(answers_train_raw, vA)"
   ]
  },
  {
   "cell_type": "markdown",
   "id": "30580f30",
   "metadata": {},
   "source": [
    "### Create model"
   ]
  },
  {
   "cell_type": "code",
   "execution_count": 9,
   "id": "4e0e0077",
   "metadata": {},
   "outputs": [],
   "source": [
    "input_size = len(vQ.words)\n",
    "hidden_size = 100\n",
    "output_size = len(vA.words) \n",
    "\n",
    "dropout_E=0\n",
    "dropout_D=0\n",
    "teacher_forcing_ratio=1\n",
    "certain=True\n",
    "\n",
    "model = Seq2Seq(input_size, hidden_size, output_size, vQ, vA, dropout_E, dropout_D, teacher_forcing_ratio,certain)"
   ]
  },
  {
   "cell_type": "markdown",
   "id": "c6c38f01",
   "metadata": {},
   "source": [
    "### Utilize pretrained embeddings"
   ]
  },
  {
   "cell_type": "code",
   "execution_count": 12,
   "id": "c9f53fed",
   "metadata": {},
   "outputs": [
    {
     "name": "stdout",
     "output_type": "stream",
     "text": [
      "For 5 of 7 words an entry has been found in the brown corpus.\n",
      "For 12 of 146 words an entry has been found in the brown corpus.\n"
     ]
    }
   ],
   "source": [
    "w2v = pretrained_w2v(init=False)\n",
    "model = pretrain(model, vQ, vA, w2v)"
   ]
  },
  {
   "cell_type": "markdown",
   "id": "48a2a591",
   "metadata": {},
   "source": [
    "#### => most_similar is not working after adding vector in gensim"
   ]
  },
  {
   "cell_type": "markdown",
   "id": "cee75a25",
   "metadata": {},
   "source": [
    "### Train model"
   ]
  },
  {
   "cell_type": "code",
   "execution_count": 13,
   "id": "eef5abe9",
   "metadata": {},
   "outputs": [
    {
     "ename": "NameError",
     "evalue": "name 'src' is not defined",
     "output_type": "error",
     "traceback": [
      "\u001b[1;31m---------------------------------------------------------------------------\u001b[0m",
      "\u001b[1;31mNameError\u001b[0m                                 Traceback (most recent call last)",
      "Input \u001b[1;32mIn [13]\u001b[0m, in \u001b[0;36m<cell line: 1>\u001b[1;34m()\u001b[0m\n\u001b[1;32m----> 1\u001b[0m \u001b[43mtrain\u001b[49m\u001b[43m(\u001b[49m\u001b[43m)\u001b[49m\n",
      "File \u001b[1;32m~\\Desktop\\chatbot\\kaggle_workspace\\train_chatbot.py:45\u001b[0m, in \u001b[0;36mtrain\u001b[1;34m()\u001b[0m\n\u001b[0;32m     44\u001b[0m \u001b[38;5;28;01mdef\u001b[39;00m \u001b[38;5;21mtrain\u001b[39m():\n\u001b[1;32m---> 45\u001b[0m     questions \u001b[38;5;241m=\u001b[39m \u001b[43msrc\u001b[49m\u001b[38;5;241m.\u001b[39mutils\u001b[38;5;241m.\u001b[39mtokenize_questions(raw_questions, vocab_source)\n\u001b[0;32m     46\u001b[0m     answers \u001b[38;5;241m=\u001b[39m src\u001b[38;5;241m.\u001b[39mutils\u001b[38;5;241m.\u001b[39mtokenize_answers(raw_answers, vocab_target)\n\u001b[0;32m     49\u001b[0m     device \u001b[38;5;241m=\u001b[39m torch\u001b[38;5;241m.\u001b[39mdevice(\u001b[38;5;124m\"\u001b[39m\u001b[38;5;124mcuda\u001b[39m\u001b[38;5;124m\"\u001b[39m \u001b[38;5;28;01mif\u001b[39;00m torch\u001b[38;5;241m.\u001b[39mcuda\u001b[38;5;241m.\u001b[39mis_available() \u001b[38;5;28;01melse\u001b[39;00m \u001b[38;5;124m\"\u001b[39m\u001b[38;5;124mcpu\u001b[39m\u001b[38;5;124m\"\u001b[39m)\n",
      "\u001b[1;31mNameError\u001b[0m: name 'src' is not defined"
     ]
    }
   ],
   "source": [
    "train()"
   ]
  },
  {
   "cell_type": "code",
   "execution_count": null,
   "id": "57adf069",
   "metadata": {},
   "outputs": [],
   "source": []
  }
 ],
 "metadata": {
  "kernelspec": {
   "display_name": "Python 3 (ipykernel)",
   "language": "python",
   "name": "python3"
  },
  "language_info": {
   "codemirror_mode": {
    "name": "ipython",
    "version": 3
   },
   "file_extension": ".py",
   "mimetype": "text/x-python",
   "name": "python",
   "nbconvert_exporter": "python",
   "pygments_lexer": "ipython3",
   "version": "3.9.12"
  }
 },
 "nbformat": 4,
 "nbformat_minor": 5
}
