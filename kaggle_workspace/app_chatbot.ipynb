{
 "cells": [
  {
   "cell_type": "code",
   "execution_count": null,
   "id": "9d7f3988",
   "metadata": {},
   "outputs": [],
   "source": [
    "#!pip install -U torch torchvision torchtext torchdata pytest torchsummary portalocker"
   ]
  },
  {
   "cell_type": "markdown",
   "id": "db1df04a",
   "metadata": {},
   "source": [
    "### Import libraries"
   ]
  },
  {
   "cell_type": "code",
   "execution_count": null,
   "id": "d5f2edd4",
   "metadata": {},
   "outputs": [],
   "source": [
    "from data_chatbot import questions_answers, load_df, toTensor, show_lengths, tokenize_questions,tokenize_answers\n",
    "from data_chatbot import pretrained_w2v # prepare_text\n",
    "from models_chatbot import Seq2Seq\n",
    "from vocab_chatbot import Vocab\n",
    "\n",
    "\n",
    "from train_chatbot import pretrain, train\n",
    "from apply_chatbot import answer\n",
    "\n"
   ]
  },
  {
   "cell_type": "markdown",
   "id": "6b2f855a",
   "metadata": {},
   "source": [
    "### Tests"
   ]
  },
  {
   "cell_type": "code",
   "execution_count": null,
   "id": "897c8ae5",
   "metadata": {},
   "outputs": [],
   "source": [
    "!python -m pytest -vv tests_chatbot.py"
   ]
  },
  {
   "cell_type": "code",
   "execution_count": null,
   "id": "800392f6",
   "metadata": {},
   "outputs": [],
   "source": []
  },
  {
   "cell_type": "markdown",
   "id": "30c3aeb7",
   "metadata": {},
   "source": [
    "### Raw data"
   ]
  },
  {
   "cell_type": "code",
   "execution_count": null,
   "id": "4846c83d",
   "metadata": {},
   "outputs": [],
   "source": [
    "# source_name = \"poc\"\n",
    "source_name = \"squad1\""
   ]
  },
  {
   "cell_type": "code",
   "execution_count": null,
   "id": "c2991dc1",
   "metadata": {},
   "outputs": [],
   "source": [
    "df_train, df_test = load_df(source_name=source_name)\n",
    "df_train.head()"
   ]
  },
  {
   "cell_type": "markdown",
   "id": "6d6e8d3d",
   "metadata": {},
   "source": [
    "### Tokenized sentences"
   ]
  },
  {
   "cell_type": "code",
   "execution_count": null,
   "id": "02f829e6",
   "metadata": {},
   "outputs": [],
   "source": [
    "questions_train_raw, questions_valid_raw, answers_train_raw, answers_valid_raw = questions_answers(source_name=source_name)\n",
    "show_lengths(questions_train_raw, questions_valid_raw, answers_train_raw, answers_valid_raw)"
   ]
  },
  {
   "cell_type": "markdown",
   "id": "aafb70ed",
   "metadata": {},
   "source": [
    "### Filter data"
   ]
  },
  {
   "cell_type": "code",
   "execution_count": null,
   "id": "af7a2586",
   "metadata": {},
   "outputs": [],
   "source": [
    "temp = [pair for pair in zip(questions_train_raw, answers_train_raw) if len(pair[1])>3]\n",
    "questions_train_filt, answers_train_filt = map(list, zip(*temp))\n",
    "temp = [pair for pair in zip(questions_valid_raw, answers_valid_raw) if len(pair[1])>3]\n",
    "questions_valid_filt, answers_valid_filt = map(list, zip(*temp))\n",
    "print(f\"{len(questions_train_filt)} training questions and {len(questions_valid_filt)} valid questions remain.\")"
   ]
  },
  {
   "cell_type": "markdown",
   "id": "fdf6733d",
   "metadata": {},
   "source": [
    "### Create vocabularies"
   ]
  },
  {
   "cell_type": "code",
   "execution_count": null,
   "id": "3854f49c",
   "metadata": {},
   "outputs": [],
   "source": [
    "vQ = Vocab(\"Questions\")\n",
    "for sequence in [[\"<SOS>\", \"<EOS>\"]] + questions_train_filt + questions_valid_filt:\n",
    "    for token in sequence:\n",
    "        vQ.indexWord(token)\n",
    "vA = Vocab(\"Answers\")\n",
    "for sequence in [[\"<SOS>\", \"<EOS>\"]] + answers_train_filt + answers_valid_filt:\n",
    "    for token in sequence:\n",
    "        vA.indexWord(token)\n",
    "print(f\"The source vocabulary contains {len(vQ.words)} and the target vocabulary contains {len(vA.words)} words.\")"
   ]
  },
  {
   "cell_type": "markdown",
   "id": "fd45ba8b",
   "metadata": {},
   "source": [
    "### Create vectors"
   ]
  },
  {
   "cell_type": "code",
   "execution_count": null,
   "id": "099c4960",
   "metadata": {},
   "outputs": [],
   "source": [
    "questions_train = tokenize_questions(questions_train_filt, vQ)\n",
    "answers_train = tokenize_answers(answers_train_filt, vA)\n",
    "questions_valid = tokenize_questions(questions_valid_filt, vQ)\n",
    "answers_valid = tokenize_answers(answers_valid_filt, vA)"
   ]
  },
  {
   "cell_type": "markdown",
   "id": "30580f30",
   "metadata": {},
   "source": [
    "### Create model"
   ]
  },
  {
   "cell_type": "code",
   "execution_count": null,
   "id": "4e0e0077",
   "metadata": {},
   "outputs": [],
   "source": [
    "input_size = len(vQ.words)\n",
    "hidden_size = 100\n",
    "output_size = len(vA.words) \n",
    "\n",
    "dropout_E=0.0\n",
    "dropout_D=0.0\n",
    "teacher_forcing_ratio=0.0\n",
    "\n",
    "\n",
    "model = Seq2Seq(input_size, hidden_size, output_size, vQ, vA, dropout_E, dropout_D, teacher_forcing_ratio)"
   ]
  },
  {
   "cell_type": "markdown",
   "id": "c6c38f01",
   "metadata": {},
   "source": [
    "### Utilize pretrained embeddings"
   ]
  },
  {
   "cell_type": "code",
   "execution_count": null,
   "id": "c9f53fed",
   "metadata": {},
   "outputs": [],
   "source": [
    "w2v = pretrained_w2v(init=False)\n",
    "model = pretrain(model, vQ, vA, w2v)"
   ]
  },
  {
   "cell_type": "markdown",
   "id": "48a2a591",
   "metadata": {},
   "source": [
    "#### => most_similar is not working after adding vector in gensim"
   ]
  },
  {
   "cell_type": "markdown",
   "id": "cee75a25",
   "metadata": {},
   "source": [
    "### Train model"
   ]
  },
  {
   "cell_type": "code",
   "execution_count": null,
   "id": "eef5abe9",
   "metadata": {},
   "outputs": [],
   "source": [
    "epochs = 100\n",
    "batch_size = 4\n",
    "print_each = 1\n",
    "lr = 0.01\n",
    "weight_decay = 0\n",
    "version = str(hidden_size)\n",
    "train(epochs, batch_size, print_each, lr, weight_decay, model, version, questions_train, answers_train, questions_valid, answers_valid, vQ, vA)"
   ]
  },
  {
   "cell_type": "code",
   "execution_count": 13,
   "id": "57adf069",
   "metadata": {},
   "outputs": [
    {
     "name": "stdout",
     "output_type": "stream",
     "text": [
      "question before tensor([[   0,    2,   62,   23, 5959,  169,  726,  132,    1]])\n",
      "question: <SOS> what titl did darwin book ultim have <EOS>\n",
      "answer: open of the bbc televis servic <EOS>\n",
      "predicted_answer: manu amiibo nebraska bandurria witti highpow afar\n",
      "\n",
      "question before tensor([[   0,   77,  388,  151, 2206,   15, 2179, 4747,    6,   48, 9776,  344,\n",
      "          672, 1798, 1985,  433,  813, 2057,    7, 9777,    1]])\n",
      "question: <SOS> how do charg accumul on each plate of a capacitor after an electr field ha develop across the dielectr <EOS>\n",
      "answer: mae raekwon and eminem <EOS>\n",
      "predicted_answer: repatri pineo csir tungurahua maximum\n",
      "\n",
      "question before tensor([[   0,  139,  388,    7,   40, 6404, 6394, 1045,    4, 6405, 6372,    1]])\n",
      "question: <SOS> when do the first facial hair present in pubesc male <EOS>\n",
      "answer: limit to those test which are requir to verifi the nonfunct aspect of the system <EOS>\n",
      "predicted_answer: nagasaki 737 smash smash smash smash smash smash anu amend van romanu infirm bengal guest guest\n",
      "\n",
      "question before tensor([[   0,    2,  343, 1687, 1688,  415,    7,  169, 1689,  343, 1690,    1]])\n",
      "question: <SOS> what public partial reprint gave the book wide public exposur <EOS>\n",
      "answer: recumb stationari bike for hi hotel room <EOS>\n",
      "predicted_answer: nagasaki 737 zrsio4 surrend coruña bahu walli stamp\n",
      "\n",
      "question before tensor([[   0,    2,  170,  244,  832,  297,  578,  170,  197,    4, 8865,    1]])\n",
      "question: <SOS> what are popular way that fish are use in burma <EOS>\n",
      "answer: antarct treati and environment protocol <EOS>\n",
      "predicted_answer: nagasaki 737 howe prompt prompt amiibo\n",
      "\n"
     ]
    }
   ],
   "source": [
    "model.eval()\n",
    "for i in [1,2,200,-2,-1]:\n",
    "    answer(model, questions_train[i].view(1,-1), vA, answers_train[i], vQ, 5)"
   ]
  },
  {
   "cell_type": "code",
   "execution_count": null,
   "id": "d125a45d",
   "metadata": {},
   "outputs": [],
   "source": [
    "answers_train"
   ]
  },
  {
   "cell_type": "code",
   "execution_count": null,
   "id": "59c49e03",
   "metadata": {},
   "outputs": [],
   "source": [
    "import random\n",
    "a=random.randint(0,3)\n",
    "print(a)"
   ]
  },
  {
   "cell_type": "code",
   "execution_count": null,
   "id": "f21c384f",
   "metadata": {},
   "outputs": [],
   "source": [
    "hallo"
   ]
  },
  {
   "cell_type": "code",
   "execution_count": null,
   "id": "0c08365d",
   "metadata": {},
   "outputs": [],
   "source": []
  }
 ],
 "metadata": {
  "kernelspec": {
   "display_name": "Python 3 (ipykernel)",
   "language": "python",
   "name": "python3"
  },
  "language_info": {
   "codemirror_mode": {
    "name": "ipython",
    "version": 3
   },
   "file_extension": ".py",
   "mimetype": "text/x-python",
   "name": "python",
   "nbconvert_exporter": "python",
   "pygments_lexer": "ipython3",
   "version": "3.9.12"
  }
 },
 "nbformat": 4,
 "nbformat_minor": 5
}
