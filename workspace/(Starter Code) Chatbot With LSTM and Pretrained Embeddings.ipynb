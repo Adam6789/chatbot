{
 "cells": [
  {
   "cell_type": "markdown",
   "metadata": {
    "id": "pJAWnBFlkE2w"
   },
   "source": [
    "# LSTM Bot\n",
    "\n",
    "## Project Overview\n",
    "\n",
    "In this project, you will build a chatbot that can converse with you at the command line. The chatbot will use a Sequence to Sequence text generation architecture with an LSTM as it's memory unit. You will also learn to use pretrained word embeddings to improve the performance of the model. At the conclusion of the project, you will be able to show your chatbot to potential employers.\n",
    "\n",
    "Additionally, you have the option to use pretrained word embeddings in your model. We have loaded Brown Embeddings from Gensim in the starter code below. You can compare the performance of your model with pre-trained embeddings against a model without the embeddings.\n",
    "\n",
    "\n",
    "\n",
    "---\n",
    "\n",
    "\n",
    "\n",
    "A sequence to sequence model (Seq2Seq) has two components:\n",
    "- An Encoder consisting of an embedding layer and LSTM unit.\n",
    "- A Decoder consisting of an embedding layer, LSTM unit, and linear output unit.\n",
    "\n",
    "The Seq2Seq model works by accepting an input into the Encoder, passing the hidden state from the Encoder to the Decoder, which the Decoder uses to output a series of token predictions.\n",
    "\n",
    "## Dependencies\n",
    "\n",
    "- Pytorch\n",
    "- Numpy\n",
    "- Pandas\n",
    "- NLTK\n",
    "- Gzip\n",
    "- Gensim\n",
    "\n",
    "\n",
    "Please choose a dataset from the Torchtext website. We recommend looking at the Squad dataset first. Here is a link to the website where you can view your options:\n",
    "\n",
    "- https://pytorch.org/text/stable/datasets.html\n",
    "\n",
    "\n",
    "\n"
   ]
  },
  {
   "cell_type": "code",
   "execution_count": 1,
   "metadata": {},
   "outputs": [],
   "source": [
    "test = False\n",
    "init = False\n",
    "\n",
    "if test:\n",
    "    !pip install -U  pytest\n",
    "if init:\n",
    "    pass\n",
    "    #!pip install torchsummary\n",
    "    #!pip install typing-extensions --upgrade\n",
    "    #!pip install -U torch torchvision torchtext torchdata pytest"
   ]
  },
  {
   "cell_type": "code",
   "execution_count": 2,
   "metadata": {},
   "outputs": [],
   "source": [
    "# public libraries\n",
    "import nltk\n",
    "import numpy as np\n",
    "import pandas as pd\n",
    "import gzip\n",
    "import torch\n",
    "import torch.nn as nn\n",
    "import pandas as pd\n",
    "import torch.optim\n",
    "import random\n",
    "from torch.utils.data import DataLoader\n",
    "import matplotlib.pyplot as plt\n",
    "\n",
    "# my libraries\n",
    "import src.utils\n",
    "import src.data"
   ]
  },
  {
   "cell_type": "code",
   "execution_count": 3,
   "metadata": {},
   "outputs": [],
   "source": [
    "# create Proof-of-Concept dataset\n",
    "df_names = pd.read_csv('data/names.csv')\n",
    "\n",
    "poc_questions = []\n",
    "poc_answers = []\n",
    "for i, row in list(df_names.iterrows())[:90]:\n",
    "    poc_questions.append(\"What is your name?\")\n",
    "    name = row[\"First Name\"]+\" \"+row[\"Last Name\"]\n",
    "    poc_answers.append(f\"['My name is {name}]'\")\n",
    "for i, row in list(df_names.iterrows())[90:]:\n",
    "    poc_questions.append(\"What is your name?\")\n",
    "    name = row[\"First Name\"]+\" \"+row[\"Last Name\"]\n",
    "    poc_answers.append(f\"['{name}']\")\n",
    "for i in range(100):\n",
    "    poc_questions.append(\"What is your name?\")\n",
    "    one = random.randint(0,99)\n",
    "    two = random.randint(0,99)\n",
    "    name_one = df_names[\"First Name\"].iloc[one]+\" \"+df_names[\"Last Name\"].iloc[two]\n",
    "    name_two = df_names[\"First Name\"].iloc[two]+\" \"+df_names[\"Last Name\"].iloc[two]\n",
    "    poc_answers.append(f\"['Our name is {name_one} and {name_two}']\")\n",
    "for i, row in list(df_names.iterrows()):\n",
    "    poc_questions.append(\"What is her name?\")\n",
    "    name = row[\"First Name\"]+\" \"+row[\"Last Name\"]\n",
    "    if row[\"Gender\"] == \"Female\":\n",
    "        poc_answers.append(f\"['Her name is {name}']\")\n",
    "for i, row in list(df_names.iterrows()):\n",
    "    poc_questions.append(\"What is his name?\")\n",
    "    name = row[\"First Name\"]+\" \"+row[\"Last Name\"]\n",
    "    if row[\"Gender\"] == \"Male\":\n",
    "        poc_answers.append(f\"['His name is {name}']'\")\n",
    "df_poc = pd.DataFrame(list(zip(poc_questions, poc_answers)),\n",
    "               columns =['question', 'answer'])\n",
    "df_poc.to_csv('data/poc_data.csv')\n",
    "\n"
   ]
  },
  {
   "cell_type": "code",
   "execution_count": 4,
   "metadata": {
    "colab": {
     "base_uri": "https://localhost:8080/"
    },
    "id": "eg81uNTWixbi",
    "outputId": "9c0f9eda-75fb-4526-e9b6-f9a76eeeb007"
   },
   "outputs": [],
   "source": [
    "if False:\n",
    "    from nltk.corpus import brown\n",
    "    from nltk.tokenize import RegexpTokenizer\n",
    "    import gensim\n",
    "\n",
    "\n",
    "    #from ntlk.stem import *\n",
    "\n",
    "    nltk.download('brown')\n",
    "    nltk.download('punkt')\n",
    "\n",
    "    # Output, save, and load brown embeddings\n",
    "\n",
    "    model = gensim.models.Word2Vec(brown.sents())\n",
    "    model.save('brown.embedding')\n",
    "\n",
    "    w2v = gensim.models.Word2Vec.load('brown.embedding')\n",
    "\n",
    "\n",
    "\n",
    "    def loadDF(path):\n",
    "      '''\n",
    "\n",
    "      You will use this function to load the dataset into a Pandas Dataframe for processing.\n",
    "\n",
    "      '''\n",
    "      return df\n",
    "\n",
    "\n",
    "    def prepare_text(sentence):\n",
    "\n",
    "        '''\n",
    "\n",
    "        Our text needs to be cleaned with a tokenizer. This function will perform that task.\n",
    "        https://www.nltk.org/api/nltk.tokenize.html\n",
    "\n",
    "        '''\n",
    "\n",
    "        return tokens\n",
    "\n",
    "\n",
    "\n",
    "    def train_test_split(SRC, TRG):\n",
    "\n",
    "        '''\n",
    "        Input: SRC, our list of questions from the dataset\n",
    "                TRG, our list of responses from the dataset\n",
    "\n",
    "        Output: Training and test datasets for SRC & TRG\n",
    "\n",
    "        '''\n",
    "        share = 0.2\n",
    "        src_split = len(SRC)*share\n",
    "        trg_split = len(TRG)*share\n",
    "        SRC_test_dataset = SRC[:scr_split]\n",
    "        SRC_train_dataset = SRC[scr_split:]\n",
    "        TRG_test_dataset = SRC[:trg_split]\n",
    "        TRG_train_dataset = SRC[trg_split:]\n",
    "\n",
    "\n",
    "        return SRC_train_dataset, SRC_test_dataset, TRG_train_dataset, TRG_test_dataset\n"
   ]
  },
  {
   "cell_type": "markdown",
   "metadata": {},
   "source": [
    "### Get and watch the data"
   ]
  },
  {
   "cell_type": "code",
   "execution_count": 5,
   "metadata": {},
   "outputs": [
    {
     "name": "stdout",
     "output_type": "stream",
     "text": [
      "87599 training samples and 10570 have been loaded.\n",
      "The test data makes 89.2% of all the data.\n"
     ]
    },
    {
     "data": {
      "text/html": [
       "<div>\n",
       "<style scoped>\n",
       "    .dataframe tbody tr th:only-of-type {\n",
       "        vertical-align: middle;\n",
       "    }\n",
       "\n",
       "    .dataframe tbody tr th {\n",
       "        vertical-align: top;\n",
       "    }\n",
       "\n",
       "    .dataframe thead th {\n",
       "        text-align: right;\n",
       "    }\n",
       "</style>\n",
       "<table border=\"1\" class=\"dataframe\">\n",
       "  <thead>\n",
       "    <tr style=\"text-align: right;\">\n",
       "      <th></th>\n",
       "      <th>Unnamed: 0</th>\n",
       "      <th>context</th>\n",
       "      <th>question</th>\n",
       "      <th>answer</th>\n",
       "      <th>answer_start</th>\n",
       "    </tr>\n",
       "  </thead>\n",
       "  <tbody>\n",
       "    <tr>\n",
       "      <th>0</th>\n",
       "      <td>0</td>\n",
       "      <td>Architecturally, the school has a Catholic cha...</td>\n",
       "      <td>To whom did the Virgin Mary allegedly appear i...</td>\n",
       "      <td>['Saint Bernadette Soubirous']</td>\n",
       "      <td>[515]</td>\n",
       "    </tr>\n",
       "    <tr>\n",
       "      <th>1</th>\n",
       "      <td>1</td>\n",
       "      <td>Architecturally, the school has a Catholic cha...</td>\n",
       "      <td>What is in front of the Notre Dame Main Building?</td>\n",
       "      <td>['a copper statue of Christ']</td>\n",
       "      <td>[188]</td>\n",
       "    </tr>\n",
       "    <tr>\n",
       "      <th>2</th>\n",
       "      <td>2</td>\n",
       "      <td>Architecturally, the school has a Catholic cha...</td>\n",
       "      <td>The Basilica of the Sacred heart at Notre Dame...</td>\n",
       "      <td>['the Main Building']</td>\n",
       "      <td>[279]</td>\n",
       "    </tr>\n",
       "    <tr>\n",
       "      <th>3</th>\n",
       "      <td>3</td>\n",
       "      <td>Architecturally, the school has a Catholic cha...</td>\n",
       "      <td>What is the Grotto at Notre Dame?</td>\n",
       "      <td>['a Marian place of prayer and reflection']</td>\n",
       "      <td>[381]</td>\n",
       "    </tr>\n",
       "    <tr>\n",
       "      <th>4</th>\n",
       "      <td>4</td>\n",
       "      <td>Architecturally, the school has a Catholic cha...</td>\n",
       "      <td>What sits on top of the Main Building at Notre...</td>\n",
       "      <td>['a golden statue of the Virgin Mary']</td>\n",
       "      <td>[92]</td>\n",
       "    </tr>\n",
       "  </tbody>\n",
       "</table>\n",
       "</div>"
      ],
      "text/plain": [
       "   Unnamed: 0                                            context  \\\n",
       "0           0  Architecturally, the school has a Catholic cha...   \n",
       "1           1  Architecturally, the school has a Catholic cha...   \n",
       "2           2  Architecturally, the school has a Catholic cha...   \n",
       "3           3  Architecturally, the school has a Catholic cha...   \n",
       "4           4  Architecturally, the school has a Catholic cha...   \n",
       "\n",
       "                                            question  \\\n",
       "0  To whom did the Virgin Mary allegedly appear i...   \n",
       "1  What is in front of the Notre Dame Main Building?   \n",
       "2  The Basilica of the Sacred heart at Notre Dame...   \n",
       "3                  What is the Grotto at Notre Dame?   \n",
       "4  What sits on top of the Main Building at Notre...   \n",
       "\n",
       "                                        answer answer_start  \n",
       "0               ['Saint Bernadette Soubirous']        [515]  \n",
       "1                ['a copper statue of Christ']        [188]  \n",
       "2                        ['the Main Building']        [279]  \n",
       "3  ['a Marian place of prayer and reflection']        [381]  \n",
       "4       ['a golden statue of the Virgin Mary']         [92]  "
      ]
     },
     "execution_count": 5,
     "metadata": {},
     "output_type": "execute_result"
    }
   ],
   "source": [
    "if init:\n",
    "    data.squad1_to_csv()\n",
    "    \n",
    "df_train = pd.read_csv('data/train_dataset_squad1.csv')  \n",
    "# df_train = pd.read_csv('data/poc_data.csv')  \n",
    "df_test = pd.read_csv('data/dev_dataset_squad1.csv') \n",
    "# df_test = pd.read_csv('data/poc_data.csv')\n",
    "split = round(len(df_train)*100/(len(df_train)+len(df_test)),1)\n",
    "print(f\"{len(df_train)} training samples and {len(df_test)} have been loaded.\")\n",
    "print(f\"The test data makes {split}% of all the data.\")\n",
    "df_train.head()"
   ]
  },
  {
   "cell_type": "markdown",
   "metadata": {},
   "source": [
    "### Data Analysis"
   ]
  },
  {
   "cell_type": "code",
   "execution_count": 6,
   "metadata": {},
   "outputs": [],
   "source": [
    "vocab_prep = src.utils.Vocab(name='prepration')\n",
    "raw_questions = [vocab_prep.clean_text(s) for s in df_train[\"question\"].values.tolist()]\n",
    "raw_answers = [vocab_prep.clean_text(q[2:-2]) for q in df_train[\"answer\"].values.tolist()]"
   ]
  },
  {
   "cell_type": "code",
   "execution_count": 7,
   "metadata": {},
   "outputs": [
    {
     "data": {
      "text/plain": [
       "(array([1.6140e+03, 2.9118e+04, 3.6943e+04, 1.4995e+04, 3.8720e+03,\n",
       "        8.2300e+02, 1.7400e+02, 4.7000e+01, 1.0000e+01, 3.0000e+00]),\n",
       " array([ 1. ,  4.9,  8.8, 12.7, 16.6, 20.5, 24.4, 28.3, 32.2, 36.1, 40. ]),\n",
       " <BarContainer object of 10 artists>)"
      ]
     },
     "execution_count": 7,
     "metadata": {},
     "output_type": "execute_result"
    },
    {
     "data": {
      "image/png": "[encoded data removed]",
      "text/plain": [
       "<Figure size 432x288 with 1 Axes>"
      ]
     },
     "metadata": {
      "needs_background": "light"
     },
     "output_type": "display_data"
    }
   ],
   "source": [
    "# Source Data\n",
    "plt.title(\"Distribution of lengths of questions\")\n",
    "plt.hist(np.array([len(n) for n in raw_questions]))"
   ]
  },
  {
   "cell_type": "code",
   "execution_count": 8,
   "metadata": {},
   "outputs": [
    {
     "data": {
      "text/plain": [
       "(array([7.1253e+04, 1.0344e+04, 3.0790e+03, 1.7480e+03, 6.9000e+02,\n",
       "        3.9300e+02, 9.0000e+01, 1.0000e+00, 0.0000e+00, 1.0000e+00]),\n",
       " array([ 0. ,  4.3,  8.6, 12.9, 17.2, 21.5, 25.8, 30.1, 34.4, 38.7, 43. ]),\n",
       " <BarContainer object of 10 artists>)"
      ]
     },
     "execution_count": 8,
     "metadata": {},
     "output_type": "execute_result"
    },
    {
     "data": {
      "image/png": "[encoded data removed]",
      "text/plain": [
       "<Figure size 432x288 with 1 Axes>"
      ]
     },
     "metadata": {
      "needs_background": "light"
     },
     "output_type": "display_data"
    }
   ],
   "source": [
    "# Target Data\n",
    "plt.title(\"Distribution of lengths of answers\")\n",
    "plt.hist(np.array([len(n) for n in raw_answers]))"
   ]
  },
  {
   "cell_type": "markdown",
   "metadata": {},
   "source": [
    "### Filtering out of noise\n",
    "\n",
    "I remove all questions with less than 25 words and all answers with less than 13 words (together with their counterpart)."
   ]
  },
  {
   "cell_type": "code",
   "execution_count": 9,
   "metadata": {},
   "outputs": [
    {
     "name": "stdout",
     "output_type": "stream",
     "text": [
      "We have removed 3.6% of the data.\n"
     ]
    }
   ],
   "source": [
    "index_a = [index for index, row in enumerate(raw_questions) if len(row) < 25]\n",
    "index_b = [index for index, row in enumerate(raw_answers) if len(row) < 13]\n",
    "\n",
    "index_all=list(set(index_a).intersection(set(index_b)))\n",
    "share = round(((len(df_train)-len(index_all))/len(df_train))*100,1)\n",
    "df_train_filtered = df_train.iloc[index_all]\n",
    "print(f\"We have removed {share}% of the data.\")"
   ]
  },
  {
   "cell_type": "markdown",
   "metadata": {},
   "source": [
    "### Tokenization"
   ]
  },
  {
   "cell_type": "code",
   "execution_count": 10,
   "metadata": {},
   "outputs": [],
   "source": [
    "# we have to repeat this step with the filtered dataframe\n",
    "raw_questions = [vocab_prep.clean_text(s) for s in df_train_filtered[\"question\"].values.tolist()]\n",
    "raw_answers = [vocab_prep.clean_text(q[2:-2]) for q in df_train_filtered[\"answer\"].values.tolist()]"
   ]
  },
  {
   "cell_type": "code",
   "execution_count": 11,
   "metadata": {},
   "outputs": [
    {
     "name": "stdout",
     "output_type": "stream",
     "text": [
      "The source sequence has to have a length of 26. And the target sequence has to have a length of 13.\n"
     ]
    }
   ],
   "source": [
    "sequence_length_source = src.utils.get_max_length(raw_questions) + 2\n",
    "sequence_length_target = src.utils.get_max_length(raw_answers) + 1\n",
    "print(f\"The source sequence has to have a length of {sequence_length_source}. And the target sequence has to have a length of {sequence_length_target}.\")"
   ]
  },
  {
   "cell_type": "code",
   "execution_count": 12,
   "metadata": {},
   "outputs": [
    {
     "name": "stdout",
     "output_type": "stream",
     "text": [
      "source: 41290 target: 40330 common words: 23332\n"
     ]
    }
   ],
   "source": [
    "vocab_source = src.utils.Vocab(name='source')\n",
    "vocab_target = src.utils.Vocab(name='target')\n",
    "\n",
    "count = 0\n",
    "for q, a in zip(raw_questions, raw_answers):\n",
    "\n",
    "    PAD = \"<PAD>\"\n",
    "    SOS = \"<SOS>\"\n",
    "    EOS = \"<EOS>\"\n",
    "    OUT = \"<OUT>\"\n",
    "    special_tokens = [\"<PAD>\", \"<SOS>\", \"<EOS>\", \"<OUT>\"]\n",
    "    for word in special_tokens + q:\n",
    "        vocab_source.indexWord(word)\n",
    "    for word in special_tokens + a:\n",
    "        vocab_target.indexWord(word)\n",
    "\n",
    "print(\"source:\", len(vocab_source.words), \"target:\", len(vocab_target.words), \"common words:\", len(list(set(vocab_source.words.keys()).intersection(set(vocab_target.words.keys())))))\n",
    "\n",
    "questions = src.utils.tokenize_questions(raw_questions, vocab_source)\n",
    "answers = src.utils.tokenize_answers(raw_answers, vocab_target)\n"
   ]
  },
  {
   "cell_type": "markdown",
   "metadata": {},
   "source": [
    "### Tests"
   ]
  },
  {
   "cell_type": "code",
   "execution_count": 13,
   "metadata": {},
   "outputs": [],
   "source": [
    "if test:\n",
    "    !python -m pytest -vv tests.py"
   ]
  },
  {
   "cell_type": "markdown",
   "metadata": {},
   "source": [
    "### Defining the model"
   ]
  },
  {
   "cell_type": "code",
   "execution_count": 14,
   "metadata": {
    "id": "oQLTP2Wmi1eB"
   },
   "outputs": [],
   "source": [
    "import torch.nn as nn\n",
    "class Encoder(nn.Module):\n",
    "    \n",
    "    def __init__(self, input_size, hidden_size):\n",
    "        \n",
    "        super(Encoder, self).__init__()\n",
    "        \n",
    "        # self.embedding provides a vector representation of the inputs to our model\n",
    "        self.embedding = nn.Embedding(input_size, hidden_size)\n",
    "        \n",
    "        # self.lstm, accepts the vectorized input and passes a hidden state\n",
    "        self.lstm = nn.LSTM(hidden_size, hidden_size)\n",
    "        self.dropout = nn.Dropout(p=0.0)\n",
    "        \n",
    "    \n",
    "    def forward(self, i, h):\n",
    "        \n",
    "        '''\n",
    "        Inputs: i, the src vector\n",
    "        Outputs: o, the encoder outputs\n",
    "                h, the hidden state (actually a tuple of hidden state and cell state)\n",
    "        '''\n",
    "        embedding = self.embedding(i)\n",
    "        x,y = h\n",
    "        o, h= self.lstm(embedding, h)\n",
    "        o = self.dropout(o)\n",
    "        \n",
    "        return o, h\n",
    "    \n",
    "\n",
    "class Decoder(nn.Module):\n",
    "      \n",
    "    def __init__(self, hidden_size, output_size):\n",
    "        \n",
    "        super(Decoder, self).__init__()\n",
    "        \n",
    "        # self.embedding provides a vector representation of the target to our model\n",
    "        self.embedding = nn.Embedding(output_size, hidden_size)\n",
    "        \n",
    "        # self.lstm, accepts the embeddings and outputs a hidden state\n",
    "        self.lstm = nn.LSTM(hidden_size, hidden_size)\n",
    "\n",
    "        # self.ouput, predicts on the hidden state via a linear output layer  \n",
    "        self.linear = nn.Linear(hidden_size, output_size)\n",
    "        \n",
    "        self.softmax = nn.Softmax(dim=1)\n",
    "        \n",
    "    def forward(self, i, h):\n",
    "        \n",
    "        '''\n",
    "        Inputs: i, the target vector\n",
    "        Outputs: o, the decoder output\n",
    "                h, the hidden state (actually a tuple of hidden state and cell state)\n",
    "        '''\n",
    "\n",
    "        embedding = self.embedding(i)\n",
    "\n",
    "        o, h = self.lstm(embedding, h)\n",
    "\n",
    "        o = self.linear(o)\n",
    "\n",
    "        o = self.softmax(o)\n",
    "\n",
    "        \n",
    "        return o, h\n",
    "        \n",
    "        \n",
    "\n",
    "class Seq2Seq(nn.Module):\n",
    "    \n",
    "    def __init__(self, input_size, hidden_size, output_size):\n",
    "        \n",
    "        super(Seq2Seq, self).__init__()\n",
    "        self.encoder = Encoder(input_size, hidden_size)\n",
    "        self.decoder = Decoder(hidden_size, output_size)\n",
    "                \n",
    "        \n",
    "    \n",
    "    \n",
    "    def forward(self, src, trg, start, teacher_forcing_ratio = 0.5): \n",
    "        '''\n",
    "        Inputs: src, the source vector\n",
    "                trg, the target vector\n",
    "        Outputs: o, the prediction\n",
    "                \n",
    "        '''\n",
    "        device = torch.device(\"cuda\" if torch.cuda.is_available() else \"cpu\")\n",
    "        src.to(device)\n",
    "        trg.to(device)\n",
    "        start.to(device)\n",
    "        \n",
    "            \n",
    "        \n",
    "        # encoder\n",
    "        hidden = (torch.zeros(1,hidden_size).to(device), torch.zeros(1,hidden_size).to(device))\n",
    "        for word in src:\n",
    "            #print(\"word\",word.shape,word)\n",
    "            o, hidden = self.encoder(word.view(-1).to(device), hidden)\n",
    "        \n",
    "        # decoder\n",
    "        o = start\n",
    "        \n",
    "        prediction = []\n",
    "        for word in trg:\n",
    "            #print(\"o\", o)\n",
    "            #print(\"o.view(-1)\",o.view(-1))\n",
    "            o, hidden = self.decoder(o.view(-1).to(device), hidden)\n",
    "            prediction.append(o)\n",
    "\n",
    "            if self.training:\n",
    "                o = word if random.random() < teacher_forcing_ratio else torch.argmax(o,dim=1)\n",
    "            else:\n",
    "                o = torch.argmax(o,dim=1)\n",
    "            \n",
    "\n",
    "            \n",
    "        \n",
    "        return torch.stack(prediction).squeeze(1)\n",
    "\n",
    "    \n",
    "\n"
   ]
  },
  {
   "cell_type": "markdown",
   "metadata": {},
   "source": [
    "### Training"
   ]
  },
  {
   "cell_type": "code",
   "execution_count": 15,
   "metadata": {},
   "outputs": [],
   "source": [
    "len(raw_answers)\n",
    "questions = src.utils.tokenize_questions(raw_questions, vocab_source)\n",
    "answers = src.utils.tokenize_answers(raw_answers, vocab_target)"
   ]
  },
  {
   "cell_type": "code",
   "execution_count": 16,
   "metadata": {},
   "outputs": [
    {
     "data": {
      "text/plain": [
       "torch.Size([84453, 13])"
      ]
     },
     "execution_count": 16,
     "metadata": {},
     "output_type": "execute_result"
    }
   ],
   "source": [
    "answers.shape"
   ]
  },
  {
   "cell_type": "code",
   "execution_count": 17,
   "metadata": {},
   "outputs": [
    {
     "name": "stdout",
     "output_type": "stream",
     "text": [
      "2640\n"
     ]
    }
   ],
   "source": [
    "batch_size = 32\n",
    "loader = DataLoader(list(zip(raw_questions, raw_answers)), shuffle = False, batch_size = batch_size)\n",
    "print(len(loader))"
   ]
  },
  {
   "cell_type": "code",
   "execution_count": null,
   "metadata": {},
   "outputs": [
    {
     "name": "stdout",
     "output_type": "stream",
     "text": [
      "is cuda: True\n",
      "loading from checkpoint: ''checkpoints/model_1.pt'\n",
      " \n",
      "epoch 0 batch# 0 batch loss: -2.329357948838151e-05 1.9% samples processed\n",
      "question <SOS> In what year was the Joan B Kroc Institute for International Peace Studies founded <EOS> <PAD> <PAD> <PAD> <PAD> <PAD> <PAD> <PAD> <PAD> <PAD> <PAD> \n",
      "answer: 1986 <EOS> <PAD> <PAD> <PAD> <PAD> <PAD> <PAD> <PAD> <PAD> <PAD> <PAD> <PAD> \n",
      "prediction: Hochbunker Isidore mistake billion Mahbub Nancy Postes Postes Postes heads employment ParkScore scream \n",
      " \n",
      "epoch 0 batch# 50 batch loss: -2.3327382280058373e-05 3.8% samples processed\n",
      "question <SOS> What year did Chopin s sister Emilia die <EOS> <PAD> <PAD> <PAD> <PAD> <PAD> <PAD> <PAD> <PAD> <PAD> <PAD> <PAD> <PAD> <PAD> <PAD> <PAD> <PAD> \n",
      "answer: 1827 <EOS> <PAD> <PAD> <PAD> <PAD> <PAD> <PAD> <PAD> <PAD> <PAD> <PAD> <PAD> \n",
      "prediction: Hochbunker renouncing dynamic Thapa heads heads employment heads 143 1968 ammattikorkeakoulus kingdoms kingdoms \n",
      " \n",
      "epoch 0 batch# 100 batch loss: -2.3018660783691303e-05 5.7% samples processed\n",
      "question <SOS> How much money did Spectre make in its first weekend in the US and Canada <EOS> <PAD> <PAD> <PAD> <PAD> <PAD> <PAD> <PAD> <PAD> <PAD> \n",
      "answer: 70 4 million <EOS> <PAD> <PAD> <PAD> <PAD> <PAD> <PAD> <PAD> <PAD> <PAD> \n",
      "prediction: Hochbunker Eton BeiDou Claudio diversify Spain Vienna heads heads employment kingdoms Attalus Vienna \n",
      " \n",
      "epoch 0 batch# 150 batch loss: -2.3264022104285687e-05 7.6% samples processed\n",
      "question <SOS> The areas that people live in typically receive what range of kWh m2 per day <EOS> <PAD> <PAD> <PAD> <PAD> <PAD> <PAD> <PAD> <PAD> <PAD> \n",
      "answer: 3 5 to 7 0 <EOS> <PAD> <PAD> <PAD> <PAD> <PAD> <PAD> <PAD> \n",
      "prediction: Hochbunker Radziwiłł Inspiration Quakers friction testosterone visited miles salute Vienna heads heads employment \n",
      " \n",
      "epoch 0 batch# 200 batch loss: -2.3330099622853595e-05 9.5% samples processed\n",
      "question <SOS> What are the four Immeasurable minds <EOS> <PAD> <PAD> <PAD> <PAD> <PAD> <PAD> <PAD> <PAD> <PAD> <PAD> <PAD> <PAD> <PAD> <PAD> <PAD> <PAD> <PAD> <PAD> \n",
      "answer: love compassion joy and equanimity <EOS> <PAD> <PAD> <PAD> <PAD> <PAD> <PAD> <PAD> \n",
      "prediction: Hochbunker politician MIRV Middletown ISIS Mr Régis Cheney galactose trail trail Vienna 821 \n",
      " \n",
      "epoch 0 batch# 250 batch loss: -2.336027063165602e-05 11.4% samples processed\n",
      "question <SOS> Because of the relay issues IOC decided to no longer have what in subsequent Olympics <EOS> <PAD> <PAD> <PAD> <PAD> <PAD> <PAD> <PAD> <PAD> <PAD> \n",
      "answer: global relays <EOS> <PAD> <PAD> <PAD> <PAD> <PAD> <PAD> <PAD> <PAD> <PAD> <PAD> \n",
      "prediction: Hochbunker erectus Bildungsroman mazurka Ominous Emperor symptom work Beacon coder heads employment heads \n",
      " \n",
      "epoch 0 batch# 300 batch loss: -2.3189904140963336e-05 13.3% samples processed\n",
      "question <SOS> What was the first institute of technology in the world <EOS> <PAD> <PAD> <PAD> <PAD> <PAD> <PAD> <PAD> <PAD> <PAD> <PAD> <PAD> <PAD> <PAD> <PAD> \n",
      "answer: the Berg Schola <EOS> <PAD> <PAD> <PAD> <PAD> <PAD> <PAD> <PAD> <PAD> <PAD> \n",
      "prediction: Hochbunker Radziwiłł foraging adventurous adventurous Spain photomask heads heads employment ParkScore scream kitāb \n",
      " \n",
      "epoch 0 batch# 350 batch loss: -2.3288133832011226e-05 15.2% samples processed\n",
      "question <SOS> What color is the exterior of Schwarzenegger s Bugatti Veyron Grand Sport Vitesse <EOS> <PAD> <PAD> <PAD> <PAD> <PAD> <PAD> <PAD> <PAD> <PAD> <PAD> <PAD> \n",
      "answer: silver <EOS> <PAD> <PAD> <PAD> <PAD> <PAD> <PAD> <PAD> <PAD> <PAD> <PAD> <PAD> \n",
      "prediction: Hochbunker Grade Historic Gipper fermented XHTIT Shengzhou Theravadin ISIS Postes Metro Jaered placebo \n",
      " \n",
      "epoch 0 batch# 400 batch loss: -2.3295416667679092e-05 17.0% samples processed\n",
      "question <SOS> What do modern hunter gatherers depend on at least somewhat <EOS> <PAD> <PAD> <PAD> <PAD> <PAD> <PAD> <PAD> <PAD> <PAD> <PAD> <PAD> <PAD> <PAD> <PAD> \n",
      "answer: domesticated food <EOS> <PAD> <PAD> <PAD> <PAD> <PAD> <PAD> <PAD> <PAD> <PAD> <PAD> \n",
      "prediction: Hochbunker Radziwiłł silky Encantada Regency earls heads 143 1968 nonhomogeneous heads heads heads \n",
      " \n",
      "epoch 0 batch# 450 batch loss: -2.360849634897022e-05 18.9% samples processed\n",
      "question <SOS> How long can it take to reach the equilibrium ratio <EOS> <PAD> <PAD> <PAD> <PAD> <PAD> <PAD> <PAD> <PAD> <PAD> <PAD> <PAD> <PAD> <PAD> <PAD> \n",
      "answer: days or weeks <EOS> <PAD> <PAD> <PAD> <PAD> <PAD> <PAD> <PAD> <PAD> <PAD> \n",
      "prediction: Hochbunker Radziwiłł silky Malthusian Site trail trail heads heads heads employment heads heads \n",
      " \n",
      "epoch 0 batch# 500 batch loss: -2.307431867620835e-05 20.8% samples processed\n",
      "question <SOS> On what day would AFL games be shown on NFL Network <EOS> <PAD> <PAD> <PAD> <PAD> <PAD> <PAD> <PAD> <PAD> <PAD> <PAD> <PAD> <PAD> <PAD> \n",
      "answer: Friday <EOS> <PAD> <PAD> <PAD> <PAD> <PAD> <PAD> <PAD> <PAD> <PAD> <PAD> <PAD> \n",
      "prediction: Hochbunker slavers Pydna intellectual heads employment heads 143 1968 nonhomogeneous graze graze heads \n",
      " \n",
      "epoch 0 batch# 550 batch loss: -2.31679557600728e-05 22.7% samples processed\n",
      "question <SOS> What was launched in 1965 by the business school at KU <EOS> <PAD> <PAD> <PAD> <PAD> <PAD> <PAD> <PAD> <PAD> <PAD> <PAD> <PAD> <PAD> <PAD> \n",
      "answer: interdisciplinary management science graduate studies in operations research <EOS> <PAD> <PAD> <PAD> <PAD> \n",
      "prediction: Hochbunker Radziwiłł Radziwiłł Swansea flora Van passover spent pneumatic Safavid Safavid Mauchly corrective \n",
      " \n",
      "epoch 0 batch# 600 batch loss: -2.329010607127202e-05 24.6% samples processed\n",
      "question <SOS> What position in Yugoslavia s government did Tito hold from 1944 63 <EOS> <PAD> <PAD> <PAD> <PAD> <PAD> <PAD> <PAD> <PAD> <PAD> <PAD> <PAD> <PAD> \n",
      "answer: Prime Minister <EOS> <PAD> <PAD> <PAD> <PAD> <PAD> <PAD> <PAD> <PAD> <PAD> <PAD> \n",
      "prediction: Hochbunker billiards bathrooms Byronic billiards ISIS ISIS Diocesan heads kingdoms heads heads employment \n",
      " \n",
      "epoch 0 batch# 650 batch loss: -2.3273757278730045e-05 26.5% samples processed\n",
      "question <SOS> Who controlled the inland trade in Guinea Bissau during this time <EOS> <PAD> <PAD> <PAD> <PAD> <PAD> <PAD> <PAD> <PAD> <PAD> <PAD> <PAD> <PAD> <PAD> \n",
      "answer: local African rulers <EOS> <PAD> <PAD> <PAD> <PAD> <PAD> <PAD> <PAD> <PAD> <PAD> \n",
      "prediction: Hochbunker Radziwiłł Radziwiłł silky Guard Cabrillo heads heads heads employment ParkScore ParkScore Dhyani \n",
      " \n",
      "epoch 0 batch# 700 batch loss: -2.3254678637840698e-05 28.4% samples processed\n",
      "question <SOS> Which kind of wood contains lignin derived from two main alcohol sources <EOS> <PAD> <PAD> <PAD> <PAD> <PAD> <PAD> <PAD> <PAD> <PAD> <PAD> <PAD> <PAD> \n",
      "answer: Hardwood <EOS> <PAD> <PAD> <PAD> <PAD> <PAD> <PAD> <PAD> <PAD> <PAD> <PAD> <PAD> \n",
      "prediction: Hochbunker suprachiasmatic suprachiasmatic Spain pri heads employment Mengjiang Nusra ISIS graze 1863 kingdoms \n"
     ]
    }
   ],
   "source": [
    "from pathlib import Path\n",
    "\n",
    "questions = src.utils.tokenize_questions(raw_questions, vocab_source)\n",
    "answers = src.utils.tokenize_answers(raw_answers, vocab_target)\n",
    "\n",
    "device = torch.device(\"cuda\" if torch.cuda.is_available() else \"cpu\")\n",
    "is_cuda = torch.cuda.is_available()\n",
    "#is_cuda = False\n",
    "print(\"is cuda:\",is_cuda)\n",
    "\n",
    "\n",
    "# hyperparams\n",
    "epochs = 100\n",
    "\n",
    "batch_size = 32\n",
    "hidden_size = 64\n",
    "lr = 0.01\n",
    "teacher_forcing_ratio = 0.5\n",
    "print_each = 100\n",
    "\n",
    "\n",
    "loader  = DataLoader(list(zip(questions, answers)), shuffle = False, batch_size = batch_size)\n",
    "\n",
    "#print(loader.shape)\n",
    "\n",
    "\n",
    "# model\n",
    "input_size = len(vocab_source.words)\n",
    "hidden_size = hidden_size\n",
    "output_size = len(vocab_target.words)\n",
    "model = Seq2Seq(input_size, hidden_size, output_size)\n",
    "\n",
    "\n",
    "if Path(\"checkpoints/model_1.pt\").is_file():\n",
    "    model.load_state_dict(torch.load(\"checkpoints/model_1.pt\"))\n",
    "    print(\"loading from checkpoint: ''checkpoints/model_1.pt'\")\n",
    "else:\n",
    "    print(\"nothing to load at checkpoint: 'checkpoints/model_1.pt'\")\n",
    "\n",
    "model.to(device)\n",
    "# training\n",
    "\n",
    "optim = torch.optim.SGD(model.parameters(), lr=lr)\n",
    "loss_fn = nn.NLLLoss()\n",
    "model.train()\n",
    "epoch = 0\n",
    "for epoch in range(epochs):\n",
    "\n",
    "    for batch_i, (questions, answers) in enumerate(loader):\n",
    "        batch_loss = 0\n",
    "        #outputs = []\n",
    "        for q, a in zip(questions, answers):       \n",
    "            start = next(iter(torch.LongTensor([vocab_target.words[\"<SOS>\"]])))\n",
    "            optim.zero_grad()\n",
    "            output = model(q,a,start)\n",
    "            \n",
    "            rand = random.uniform(0,1)\n",
    "            loss = loss_fn(output, a.to(device))\n",
    "            loss.backward(retain_graph=True)\n",
    "            optim.step()\n",
    "            batch_loss += loss.item()\n",
    "            #outputs.append([output])\n",
    "        if batch_i % print_each == 0:\n",
    "            share = round(((batch_i+print_each)*100)/len(loader),1)\n",
    "            print(\" \")\n",
    "            print(\"epoch\", epoch, \"batch#\",batch_i,\"batch loss:\",batch_loss/batch_size, f\"{share}% samples processed\")\n",
    "            text = \"\"\n",
    "            for x in q:\n",
    "                text += vocab_source.index[str(x.item())] + \" \"\n",
    "            print(\"question\",text)\n",
    "            text = \"\"\n",
    "            for x in a:\n",
    "                #print(x)\n",
    "                text += vocab_target.index[str(x.item())] + \" \"\n",
    "            print(\"answer:\", text)\n",
    "            text = \"\"\n",
    "            for x in output:\n",
    "                #print(x)\n",
    "                text += vocab_target.index[str(torch.argmax(x,dim=0).item())] + \" \"\n",
    "            print(\"prediction:\", text)\n",
    "        if batch_i % 200 == 0:\n",
    "            torch.save(model.state_dict(),\"checkpoints/model_1.pt\")\n",
    "                  \n",
    "\n",
    "\n",
    "            "
   ]
  },
  {
   "cell_type": "code",
   "execution_count": null,
   "metadata": {},
   "outputs": [],
   "source": [
    "30000/205\n"
   ]
  },
  {
   "cell_type": "code",
   "execution_count": null,
   "metadata": {},
   "outputs": [],
   "source": [
    "vocab_target.index"
   ]
  },
  {
   "cell_type": "code",
   "execution_count": null,
   "metadata": {},
   "outputs": [],
   "source": [
    "# from pathlib import Path\n",
    "\n",
    "# questions = src.utils.tokenize_questions(questions, vocab_source)\n",
    "# answers = src.utils.tokenize_answers(answers, vocab_target)\n",
    "\n",
    "# device = torch.device(\"cuda\" if torch.cuda.is_available() else \"cpu\")\n",
    "# is_cuda = torch.cuda.is_available()\n",
    "# #is_cuda = False\n",
    "# print(\"is cuda:\",is_cuda)\n",
    "\n",
    "\n",
    "# # hyperparams\n",
    "# epochs = 1\n",
    "\n",
    "# batch_size = 32\n",
    "# hidden_size = 2\n",
    "# lr = 0.01\n",
    "# teacher_forcing_ratio = 0.5\n",
    "# loader  = DataLoader(list(zip(questions, answers)), shuffle = False, batch_size = batch_size)\n",
    "# print\n",
    "\n",
    "\n",
    "# # model\n",
    "# input_size = len(vocab_source.words)\n",
    "# hidden_size = hidden_size\n",
    "# output_size = len(vocab_target.words)\n",
    "# model = Seq2Seq(input_size, hidden_size, output_size)\n",
    "\n",
    "\n",
    "# if Path(\"./checkpoints/model_1.pt\").is_file():\n",
    "#     model.load_state_dict(torch.load(\"./checkpoints/model_1.pt\"))\n",
    "#     print(\"loading from checkpoint: ''./checkpoints/model_1.pt'\")\n",
    "# else:\n",
    "#     print(\"nothing to load at checkpoint: './checkpoints/model_1.pt'\")\n",
    "\n",
    "# model.to(device)\n",
    "# # training\n",
    "\n",
    "# optim = torch.optim.SGD(model.parameters(), lr=lr)\n",
    "# loss_fn = nn.NLLLoss()\n",
    "# model.train()\n",
    "# epoch = 0\n",
    "# for epoch in range(epochs):\n",
    "\n",
    "#     for batch_i, (questions, answers) in enumerate(loader):\n",
    "#         batch_loss = 0\n",
    "#         for q, a in zip(questions, answers):       \n",
    "#             start = next(iter(torch.LongTensor([vocab_target.words[\"<SOS>\"]])))\n",
    "#             optim.zero_grad()\n",
    "#             output = model(q,a,start)\n",
    "            \n",
    "#             rand = random.uniform(0,1)\n",
    "#             loss = loss_fn(output, a.to(device))\n",
    "#             loss.backward(retain_graph=True)\n",
    "#             optim.step()\n",
    "#             batch_loss += loss.item()\n",
    "#             #print(\"loss:\",loss.item())\n",
    "#         if batch_i % 50 == 0:\n",
    "#             share = round((batch_size * batch_i)/len(questions)*100,1)\n",
    "#             print(\"batch#\",batch_i,\"batch loss:\",batch_loss/batch_size, f\"{share}% samples processed\")\n",
    "#         if batch_i % 200 == 0:\n",
    "#             torch.save(model.state_dict(),\"./checkpoints/model_1.pt\")\n",
    "                  \n",
    "\n",
    "\n",
    "            \n",
    "        "
   ]
  },
  {
   "cell_type": "code",
   "execution_count": null,
   "metadata": {},
   "outputs": [],
   "source": [
    "print(qt)\n",
    "print(trg)\n",
    "print(hidden)"
   ]
  },
  {
   "cell_type": "code",
   "execution_count": null,
   "metadata": {},
   "outputs": [],
   "source": [
    "torch.cuda.memory_summary(device='cuda', abbreviated=False)"
   ]
  },
  {
   "cell_type": "code",
   "execution_count": null,
   "metadata": {},
   "outputs": [],
   "source": [
    "t = torch.Tensor(2)\n",
    "#t = t.view(1,-1)\n",
    "t.shape\n",
    "t=t.view()\n",
    "t\n"
   ]
  },
  {
   "cell_type": "code",
   "execution_count": null,
   "metadata": {},
   "outputs": [],
   "source": [
    "at = at.view(-1)\n",
    "output = output.squeeze(0)\n",
    "print(at.shape)\n",
    "print(output.shape)\n",
    "loss_fn(output,at)"
   ]
  },
  {
   "cell_type": "code",
   "execution_count": null,
   "metadata": {},
   "outputs": [],
   "source": [
    "for que in questions[:2]:\n",
    "    for word in que:\n",
    "        print(word.shape, word.view(-1).shape,word.view(1,-1).shape,word.view(1,-1), word.view(1,1,-1).shape)"
   ]
  },
  {
   "cell_type": "code",
   "execution_count": null,
   "metadata": {},
   "outputs": [],
   "source": [
    "import src.abc\n",
    "src.abc.test()"
   ]
  },
  {
   "cell_type": "code",
   "execution_count": null,
   "metadata": {},
   "outputs": [],
   "source": [
    "import torch.nn.functional as F\n",
    "F.one_hot(torch.Tensor([19]),50)"
   ]
  }
 ],
 "metadata": {
  "colab": {
   "collapsed_sections": [],
   "name": "(Starter Code) LSTM Bot",
   "provenance": []
  },
  "kernelspec": {
   "display_name": "Python 3",
   "language": "python",
   "name": "python3"
  },
  "language_info": {
   "codemirror_mode": {
    "name": "ipython",
    "version": 3
   },
   "file_extension": ".py",
   "mimetype": "text/x-python",
   "name": "python",
   "nbconvert_exporter": "python",
   "pygments_lexer": "ipython3",
   "version": "3.7.6"
  }
 },
 "nbformat": 4,
 "nbformat_minor": 1
}
